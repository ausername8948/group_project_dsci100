{
 "cells": [
  {
   "cell_type": "markdown",
   "id": "a8a82e18-41cf-407e-a527-1364cfd88f4a",
   "metadata": {},
   "source": [
    "# Group Project Proposal"
   ]
  },
  {
   "cell_type": "markdown",
   "id": "ff3e5532-bbb4-4d84-8551-89de1f1df267",
   "metadata": {},
   "source": [
    "## Introduction"
   ]
  },
  {
   "cell_type": "code",
   "execution_count": 2,
   "id": "a8031a1f-6333-469f-ae73-4094352cb5fd",
   "metadata": {},
   "outputs": [
    {
     "name": "stderr",
     "output_type": "stream",
     "text": [
      "── \u001b[1mAttaching core tidyverse packages\u001b[22m ──────────────────────── tidyverse 2.0.0 ──\n",
      "\u001b[32m✔\u001b[39m \u001b[34mdplyr    \u001b[39m 1.1.3     \u001b[32m✔\u001b[39m \u001b[34mreadr    \u001b[39m 2.1.4\n",
      "\u001b[32m✔\u001b[39m \u001b[34mforcats  \u001b[39m 1.0.0     \u001b[32m✔\u001b[39m \u001b[34mstringr  \u001b[39m 1.5.0\n",
      "\u001b[32m✔\u001b[39m \u001b[34mggplot2  \u001b[39m 3.4.4     \u001b[32m✔\u001b[39m \u001b[34mtibble   \u001b[39m 3.2.1\n",
      "\u001b[32m✔\u001b[39m \u001b[34mlubridate\u001b[39m 1.9.3     \u001b[32m✔\u001b[39m \u001b[34mtidyr    \u001b[39m 1.3.0\n",
      "\u001b[32m✔\u001b[39m \u001b[34mpurrr    \u001b[39m 1.0.2     \n",
      "── \u001b[1mConflicts\u001b[22m ────────────────────────────────────────── tidyverse_conflicts() ──\n",
      "\u001b[31m✖\u001b[39m \u001b[34mdplyr\u001b[39m::\u001b[32mfilter()\u001b[39m masks \u001b[34mstats\u001b[39m::filter()\n",
      "\u001b[31m✖\u001b[39m \u001b[34mdplyr\u001b[39m::\u001b[32mlag()\u001b[39m    masks \u001b[34mstats\u001b[39m::lag()\n",
      "\u001b[36mℹ\u001b[39m Use the conflicted package (\u001b[3m\u001b[34m<http://conflicted.r-lib.org/>\u001b[39m\u001b[23m) to force all conflicts to become errors\n"
     ]
    }
   ],
   "source": [
    "options(repr.matrix.max.rows = 6)\n",
    "\n",
    "library(tidyverse)\n",
    "library(repr)"
   ]
  },
  {
   "cell_type": "code",
   "execution_count": 1,
   "id": "92d72ff8-ea98-4f27-bf56-18abcb352718",
   "metadata": {
    "scrolled": true
   },
   "outputs": [
    {
     "ename": "ERROR",
     "evalue": "Error in read_csv(\"tennis.csv\", na = c(\"\", \"NA\")): could not find function \"read_csv\"\n",
     "output_type": "error",
     "traceback": [
      "Error in read_csv(\"tennis.csv\", na = c(\"\", \"NA\")): could not find function \"read_csv\"\nTraceback:\n"
     ]
    }
   ],
   "source": [
    "tennis <- read_csv(\"tennis.csv\", na = c(\"\", \"NA\"))\n",
    "\n",
    "## CLeaning and Wrangling\n",
    "\n",
    "## Replacing blanks with NA's for easier filtering\n",
    "head(tennis)\n"
   ]
  },
  {
   "cell_type": "code",
   "execution_count": 6,
   "id": "aa075e91-5cbe-4c4f-ac39-e457170f72b0",
   "metadata": {},
   "outputs": [
    {
     "data": {
      "text/html": [
       "<table class=\"dataframe\">\n",
       "<caption>A tibble: 1 × 4</caption>\n",
       "<thead>\n",
       "\t<tr><th scope=col>avg_winner_ht</th><th scope=col>avg_winner_age</th><th scope=col>avg_loser_ht</th><th scope=col>avg_loser_age</th></tr>\n",
       "\t<tr><th scope=col>&lt;dbl&gt;</th><th scope=col>&lt;dbl&gt;</th><th scope=col>&lt;dbl&gt;</th><th scope=col>&lt;dbl&gt;</th></tr>\n",
       "</thead>\n",
       "<tbody>\n",
       "\t<tr><td>186.7431</td><td>29.69015</td><td>186.1346</td><td>29.90483</td></tr>\n",
       "</tbody>\n",
       "</table>\n"
      ],
      "text/latex": [
       "A tibble: 1 × 4\n",
       "\\begin{tabular}{llll}\n",
       " avg\\_winner\\_ht & avg\\_winner\\_age & avg\\_loser\\_ht & avg\\_loser\\_age\\\\\n",
       " <dbl> & <dbl> & <dbl> & <dbl>\\\\\n",
       "\\hline\n",
       "\t 186.7431 & 29.69015 & 186.1346 & 29.90483\\\\\n",
       "\\end{tabular}\n"
      ],
      "text/markdown": [
       "\n",
       "A tibble: 1 × 4\n",
       "\n",
       "| avg_winner_ht &lt;dbl&gt; | avg_winner_age &lt;dbl&gt; | avg_loser_ht &lt;dbl&gt; | avg_loser_age &lt;dbl&gt; |\n",
       "|---|---|---|---|\n",
       "| 186.7431 | 29.69015 | 186.1346 | 29.90483 |\n",
       "\n"
      ],
      "text/plain": [
       "  avg_winner_ht avg_winner_age avg_loser_ht avg_loser_age\n",
       "1 186.7431      29.69015       186.1346     29.90483     "
      ]
     },
     "metadata": {},
     "output_type": "display_data"
    },
    {
     "name": "stderr",
     "output_type": "stream",
     "text": [
      "Warning message:\n",
      "“\u001b[1m\u001b[22mThere were 193 warnings in `summarize()`.\n",
      "The first warning was:\n",
      "\u001b[1m\u001b[22m\u001b[36mℹ\u001b[39m In argument: `match_count = sum(tennis$winner_name == winner_name)`.\n",
      "\u001b[36mℹ\u001b[39m In group 1: `winner_name = \"Adam Pavlasek\"`.\n",
      "Caused by warning in `tennis$winner_name == winner_name`:\n",
      "\u001b[33m!\u001b[39m longer object length is not a multiple of shorter object length\n",
      "\u001b[1m\u001b[22m\u001b[36mℹ\u001b[39m Run `dplyr::last_dplyr_warnings()` to see the 192 remaining warnings.”\n"
     ]
    },
    {
     "data": {
      "text/html": [
       "<table class=\"dataframe\">\n",
       "<caption>A tibble: 255 × 2</caption>\n",
       "<thead>\n",
       "\t<tr><th scope=col>winner_name</th><th scope=col>match_count</th></tr>\n",
       "\t<tr><th scope=col>&lt;chr&gt;</th><th scope=col>&lt;int&gt;</th></tr>\n",
       "</thead>\n",
       "<tbody>\n",
       "\t<tr><td>Rafael Nadal  </td><td>152</td></tr>\n",
       "\t<tr><td>Dominic Thiem </td><td>142</td></tr>\n",
       "\t<tr><td>Novak Djokovic</td><td>139</td></tr>\n",
       "\t<tr><td>⋮</td><td>⋮</td></tr>\n",
       "\t<tr><td>Yshai Oliel  </td><td>1</td></tr>\n",
       "\t<tr><td>Zhe Li       </td><td>1</td></tr>\n",
       "\t<tr><td>Zsombor Piros</td><td>1</td></tr>\n",
       "</tbody>\n",
       "</table>\n"
      ],
      "text/latex": [
       "A tibble: 255 × 2\n",
       "\\begin{tabular}{ll}\n",
       " winner\\_name & match\\_count\\\\\n",
       " <chr> & <int>\\\\\n",
       "\\hline\n",
       "\t Rafael Nadal   & 152\\\\\n",
       "\t Dominic Thiem  & 142\\\\\n",
       "\t Novak Djokovic & 139\\\\\n",
       "\t ⋮ & ⋮\\\\\n",
       "\t Yshai Oliel   & 1\\\\\n",
       "\t Zhe Li        & 1\\\\\n",
       "\t Zsombor Piros & 1\\\\\n",
       "\\end{tabular}\n"
      ],
      "text/markdown": [
       "\n",
       "A tibble: 255 × 2\n",
       "\n",
       "| winner_name &lt;chr&gt; | match_count &lt;int&gt; |\n",
       "|---|---|\n",
       "| Rafael Nadal   | 152 |\n",
       "| Dominic Thiem  | 142 |\n",
       "| Novak Djokovic | 139 |\n",
       "| ⋮ | ⋮ |\n",
       "| Yshai Oliel   | 1 |\n",
       "| Zhe Li        | 1 |\n",
       "| Zsombor Piros | 1 |\n",
       "\n"
      ],
      "text/plain": [
       "    winner_name    match_count\n",
       "1   Rafael Nadal   152        \n",
       "2   Dominic Thiem  142        \n",
       "3   Novak Djokovic 139        \n",
       "⋮   ⋮              ⋮          \n",
       "253 Yshai Oliel    1          \n",
       "254 Zhe Li         1          \n",
       "255 Zsombor Piros  1          "
      ]
     },
     "metadata": {},
     "output_type": "display_data"
    }
   ],
   "source": [
    "tennis_remove_blank_heights <- tennis[!(is.na(tennis$winner_ht) | is.na(tennis$loser_ht)), ]\n",
    "tennis_summarized <- tennis_remove_blank_heights |>\n",
    "    summarize(\n",
    "        avg_winner_ht = mean(winner_ht), \n",
    "        avg_winner_age = mean(winner_age),\n",
    "        avg_loser_ht = mean(loser_ht),\n",
    "        avg_loser_age = mean(loser_age)) \n",
    "\n",
    "tennis_summarized\n",
    "\n",
    "players_match_count <- tennis |>\n",
    "    group_by(winner_name) |>\n",
    "    summarize(\n",
    "        match_count = sum(tennis$winner_name == winner_name)\n",
    "    ) |>\n",
    "    arrange(desc(match_count))\n",
    "\n",
    "players_match_count"
   ]
  },
  {
   "cell_type": "code",
   "execution_count": null,
   "id": "52951d88-4901-4fbb-8eb1-92d859d0a98d",
   "metadata": {},
   "outputs": [],
   "source": []
  },
  {
   "cell_type": "code",
   "execution_count": null,
   "id": "448bb3b6-7ced-4c0c-8899-fa7a93ee3d20",
   "metadata": {},
   "outputs": [],
   "source": []
  }
 ],
 "metadata": {
  "kernelspec": {
   "display_name": "R",
   "language": "R",
   "name": "ir"
  },
  "language_info": {
   "codemirror_mode": "r",
   "file_extension": ".r",
   "mimetype": "text/x-r-source",
   "name": "R",
   "pygments_lexer": "r",
   "version": "4.3.1"
  }
 },
 "nbformat": 4,
 "nbformat_minor": 5
}
