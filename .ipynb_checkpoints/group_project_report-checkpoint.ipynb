{
 "cells": [
  {
   "cell_type": "markdown",
   "id": "a8a82e18-41cf-407e-a527-1364cfd88f4a",
   "metadata": {},
   "source": [
    "# Group Project - Predicting the Winner of a Tennis Match"
   ]
  },
  {
   "cell_type": "markdown",
   "id": "ff3e5532-bbb4-4d84-8551-89de1f1df267",
   "metadata": {},
   "source": [
    "# 1. Introduction\n",
    "\n",
    "Tennis is a popular racket sport throughout the world and has a large competitive scene. There are many competitions held throughout the world for tennis, to try to find the best tennis player in the world. Professional tennis players are ranked through the ATP ranking system, awarding points based on their tournament performances. For instance, a player would earn more points for making it deep into a tournament. \n",
    "\n",
    "In this project, we will attempt to answer the question: **“Can we predict the length of a match between two players?”** \r\n"
   ]
  },
  {
   "cell_type": "markdown",
   "id": "deea7f3b-0e3a-4d06-b591-0d4ccb44b94a",
   "metadata": {},
   "source": [
    "## Dataset Description\n",
    "\n",
    "The dataset we will be using to create our classification model are the results of games between 2017 and 2019 of the top 500 tennis players. In this dataset, there is information about the various tournaments in the time period, information about the players that played in the tournament, and information about their wins and losses in those tournaments. There is also data about the player’s ATP rank and also how long each match was during the tournament."
   ]
  },
  {
   "cell_type": "markdown",
   "id": "c0b07a60-ef34-47ce-a9a7-62b630525e65",
   "metadata": {},
   "source": [
    "# 2. Methods & Results\n",
    "\n",
    "Firstly, we imported the tennis database into Jupyter. Then, we will transform our data to better suit our data analysis, and clean it into a tidy format. Finally, we can split the data into 75% training and 25% testing for analysis.\n",
    "\n",
    "There are a large number of potential predictors in this dataset, many of which are potentially useless for determining how long a match is, and so further analysis is needed to determine the best set of predictor variables. We can do this using data visualizations.\n",
    "\n",
    "After selecting the appropriate predictors, we can train a KNN (***k***\n",
    "-nearest neighbors) classification model using the training data. A cross-fold validation will be performed to find the best value for ***k***. Thenly, the model will be evaluated against the testing data set.\n",
    "\n",
    "Currently, there are columns that describe the ATP rank of the two players. We will create a new column called \"average rank\", which will be a mean of the two players' ranks.\n"
   ]
  },
  {
   "cell_type": "markdown",
   "id": "b868bad2-5135-41e9-a20b-018fad1267dc",
   "metadata": {},
   "source": [
    "## Preliminary Exploratory Data Analysis"
   ]
  },
  {
   "cell_type": "markdown",
   "id": "3382e636-7b76-42d3-99a4-502525d98cb2",
   "metadata": {},
   "source": [
    "### Library importting and graph formatting"
   ]
  },
  {
   "cell_type": "code",
   "execution_count": 1,
   "id": "a8031a1f-6333-469f-ae73-4094352cb5fd",
   "metadata": {},
   "outputs": [
    {
     "name": "stderr",
     "output_type": "stream",
     "text": [
      "Warning message:\n",
      "“package ‘ggplot2’ was built under R version 4.3.2”\n",
      "── \u001b[1mAttaching core tidyverse packages\u001b[22m ──────────────────────── tidyverse 2.0.0 ──\n",
      "\u001b[32m✔\u001b[39m \u001b[34mdplyr    \u001b[39m 1.1.3     \u001b[32m✔\u001b[39m \u001b[34mreadr    \u001b[39m 2.1.4\n",
      "\u001b[32m✔\u001b[39m \u001b[34mforcats  \u001b[39m 1.0.0     \u001b[32m✔\u001b[39m \u001b[34mstringr  \u001b[39m 1.5.0\n",
      "\u001b[32m✔\u001b[39m \u001b[34mggplot2  \u001b[39m 3.5.0     \u001b[32m✔\u001b[39m \u001b[34mtibble   \u001b[39m 3.2.1\n",
      "\u001b[32m✔\u001b[39m \u001b[34mlubridate\u001b[39m 1.9.2     \u001b[32m✔\u001b[39m \u001b[34mtidyr    \u001b[39m 1.3.0\n",
      "\u001b[32m✔\u001b[39m \u001b[34mpurrr    \u001b[39m 1.0.2     \n",
      "── \u001b[1mConflicts\u001b[22m ────────────────────────────────────────── tidyverse_conflicts() ──\n",
      "\u001b[31m✖\u001b[39m \u001b[34mdplyr\u001b[39m::\u001b[32mfilter()\u001b[39m masks \u001b[34mstats\u001b[39m::filter()\n",
      "\u001b[31m✖\u001b[39m \u001b[34mdplyr\u001b[39m::\u001b[32mlag()\u001b[39m    masks \u001b[34mstats\u001b[39m::lag()\n",
      "\u001b[36mℹ\u001b[39m Use the conflicted package (\u001b[3m\u001b[34m<http://conflicted.r-lib.org/>\u001b[39m\u001b[23m) to force all conflicts to become errors\n",
      "── \u001b[1mAttaching packages\u001b[22m ────────────────────────────────────── tidymodels 1.1.1 ──\n",
      "\n",
      "\u001b[32m✔\u001b[39m \u001b[34mbroom       \u001b[39m 1.0.5     \u001b[32m✔\u001b[39m \u001b[34mrsample     \u001b[39m 1.2.0\n",
      "\u001b[32m✔\u001b[39m \u001b[34mdials       \u001b[39m 1.2.0     \u001b[32m✔\u001b[39m \u001b[34mtune        \u001b[39m 1.1.2\n",
      "\u001b[32m✔\u001b[39m \u001b[34minfer       \u001b[39m 1.0.5     \u001b[32m✔\u001b[39m \u001b[34mworkflows   \u001b[39m 1.1.3\n",
      "\u001b[32m✔\u001b[39m \u001b[34mmodeldata   \u001b[39m 1.2.0     \u001b[32m✔\u001b[39m \u001b[34mworkflowsets\u001b[39m 1.0.1\n",
      "\u001b[32m✔\u001b[39m \u001b[34mparsnip     \u001b[39m 1.1.1     \u001b[32m✔\u001b[39m \u001b[34myardstick   \u001b[39m 1.2.0\n",
      "\u001b[32m✔\u001b[39m \u001b[34mrecipes     \u001b[39m 1.0.8     \n",
      "\n",
      "── \u001b[1mConflicts\u001b[22m ───────────────────────────────────────── tidymodels_conflicts() ──\n",
      "\u001b[31m✖\u001b[39m \u001b[34mscales\u001b[39m::\u001b[32mdiscard()\u001b[39m masks \u001b[34mpurrr\u001b[39m::discard()\n",
      "\u001b[31m✖\u001b[39m \u001b[34mdplyr\u001b[39m::\u001b[32mfilter()\u001b[39m   masks \u001b[34mstats\u001b[39m::filter()\n",
      "\u001b[31m✖\u001b[39m \u001b[34mrecipes\u001b[39m::\u001b[32mfixed()\u001b[39m  masks \u001b[34mstringr\u001b[39m::fixed()\n",
      "\u001b[31m✖\u001b[39m \u001b[34mdplyr\u001b[39m::\u001b[32mlag()\u001b[39m      masks \u001b[34mstats\u001b[39m::lag()\n",
      "\u001b[31m✖\u001b[39m \u001b[34myardstick\u001b[39m::\u001b[32mspec()\u001b[39m masks \u001b[34mreadr\u001b[39m::spec()\n",
      "\u001b[31m✖\u001b[39m \u001b[34mrecipes\u001b[39m::\u001b[32mstep()\u001b[39m   masks \u001b[34mstats\u001b[39m::step()\n",
      "\u001b[34m•\u001b[39m Learn how to get started at \u001b[32mhttps://www.tidymodels.org/start/\u001b[39m\n",
      "\n"
     ]
    }
   ],
   "source": [
    "## format graph\n",
    "options(repr.matrix.max.rows = 6)\n",
    "\n",
    "## import libraries\n",
    "library(tidyverse)\n",
    "library(repr)\n",
    "library(tidymodels)\n",
    "library(RColorBrewer)"
   ]
  },
  {
   "cell_type": "markdown",
   "id": "398b0d84-5ff1-4f5c-9b54-693f0ec8871c",
   "metadata": {},
   "source": [
    "### Importing dataset"
   ]
  },
  {
   "cell_type": "code",
   "execution_count": 2,
   "id": "92d72ff8-ea98-4f27-bf56-18abcb352718",
   "metadata": {
    "scrolled": true
   },
   "outputs": [
    {
     "name": "stderr",
     "output_type": "stream",
     "text": [
      "\u001b[1mRows: \u001b[22m\u001b[34m2806\u001b[39m \u001b[1mColumns: \u001b[22m\u001b[34m49\u001b[39m\n",
      "\u001b[36m──\u001b[39m \u001b[1mColumn specification\u001b[22m \u001b[36m────────────────────────────────────────────────────────\u001b[39m\n",
      "\u001b[1mDelimiter:\u001b[22m \",\"\n",
      "\u001b[31mchr\u001b[39m (14): tourney_id, tourney_name, surface, tourney_level, winner_entry, wi...\n",
      "\u001b[32mdbl\u001b[39m (35): draw_size, tourney_date, match_num, winner_id, winner_seed, winner...\n",
      "\n",
      "\u001b[36mℹ\u001b[39m Use `spec()` to retrieve the full column specification for this data.\n",
      "\u001b[36mℹ\u001b[39m Specify the column types or set `show_col_types = FALSE` to quiet this message.\n"
     ]
    },
    {
     "data": {
      "text/html": [
       "<table class=\"dataframe\">\n",
       "<caption>A tibble: 6 × 49</caption>\n",
       "<thead>\n",
       "\t<tr><th scope=col>tourney_id</th><th scope=col>tourney_name</th><th scope=col>surface</th><th scope=col>draw_size</th><th scope=col>tourney_level</th><th scope=col>tourney_date</th><th scope=col>match_num</th><th scope=col>winner_id</th><th scope=col>winner_seed</th><th scope=col>winner_entry</th><th scope=col>⋯</th><th scope=col>l_1stIn</th><th scope=col>l_1stWon</th><th scope=col>l_2ndWon</th><th scope=col>l_SvGms</th><th scope=col>l_bpSaved</th><th scope=col>l_bpFaced</th><th scope=col>winner_rank</th><th scope=col>winner_rank_points</th><th scope=col>loser_rank</th><th scope=col>loser_rank_points</th></tr>\n",
       "\t<tr><th scope=col>&lt;chr&gt;</th><th scope=col>&lt;chr&gt;</th><th scope=col>&lt;chr&gt;</th><th scope=col>&lt;dbl&gt;</th><th scope=col>&lt;chr&gt;</th><th scope=col>&lt;dbl&gt;</th><th scope=col>&lt;dbl&gt;</th><th scope=col>&lt;dbl&gt;</th><th scope=col>&lt;dbl&gt;</th><th scope=col>&lt;chr&gt;</th><th scope=col>⋯</th><th scope=col>&lt;dbl&gt;</th><th scope=col>&lt;dbl&gt;</th><th scope=col>&lt;dbl&gt;</th><th scope=col>&lt;dbl&gt;</th><th scope=col>&lt;dbl&gt;</th><th scope=col>&lt;dbl&gt;</th><th scope=col>&lt;dbl&gt;</th><th scope=col>&lt;dbl&gt;</th><th scope=col>&lt;dbl&gt;</th><th scope=col>&lt;dbl&gt;</th></tr>\n",
       "</thead>\n",
       "<tbody>\n",
       "\t<tr><td>2019-M020</td><td>Brisbane</td><td>Hard</td><td>32</td><td>A</td><td>20181231</td><td>300</td><td>105453</td><td> 2</td><td>NA</td><td>⋯</td><td>54</td><td>34</td><td>20</td><td>14</td><td>10</td><td>15</td><td>  9</td><td>3590</td><td> 16</td><td>1977</td></tr>\n",
       "\t<tr><td>2019-M020</td><td>Brisbane</td><td>Hard</td><td>32</td><td>A</td><td>20181231</td><td>299</td><td>106421</td><td> 4</td><td>NA</td><td>⋯</td><td>52</td><td>36</td><td> 7</td><td>10</td><td>10</td><td>13</td><td> 16</td><td>1977</td><td>239</td><td> 200</td></tr>\n",
       "\t<tr><td>2019-M020</td><td>Brisbane</td><td>Hard</td><td>32</td><td>A</td><td>20181231</td><td>298</td><td>105453</td><td> 2</td><td>NA</td><td>⋯</td><td>27</td><td>15</td><td> 6</td><td> 8</td><td> 1</td><td> 5</td><td>  9</td><td>3590</td><td> 40</td><td>1050</td></tr>\n",
       "\t<tr><td>2019-M020</td><td>Brisbane</td><td>Hard</td><td>32</td><td>A</td><td>20181231</td><td>297</td><td>104542</td><td>NA</td><td>PR</td><td>⋯</td><td>60</td><td>38</td><td> 9</td><td>11</td><td> 4</td><td> 6</td><td>239</td><td> 200</td><td> 31</td><td>1298</td></tr>\n",
       "\t<tr><td>2019-M020</td><td>Brisbane</td><td>Hard</td><td>32</td><td>A</td><td>20181231</td><td>296</td><td>106421</td><td> 4</td><td>NA</td><td>⋯</td><td>56</td><td>46</td><td>19</td><td>15</td><td> 2</td><td> 4</td><td> 16</td><td>1977</td><td> 18</td><td>1855</td></tr>\n",
       "\t<tr><td>2019-M020</td><td>Brisbane</td><td>Hard</td><td>32</td><td>A</td><td>20181231</td><td>295</td><td>104871</td><td>NA</td><td>NA</td><td>⋯</td><td>54</td><td>40</td><td>18</td><td>15</td><td> 6</td><td> 9</td><td> 40</td><td>1050</td><td>185</td><td> 275</td></tr>\n",
       "</tbody>\n",
       "</table>\n"
      ],
      "text/latex": [
       "A tibble: 6 × 49\n",
       "\\begin{tabular}{lllllllllllllllllllll}\n",
       " tourney\\_id & tourney\\_name & surface & draw\\_size & tourney\\_level & tourney\\_date & match\\_num & winner\\_id & winner\\_seed & winner\\_entry & ⋯ & l\\_1stIn & l\\_1stWon & l\\_2ndWon & l\\_SvGms & l\\_bpSaved & l\\_bpFaced & winner\\_rank & winner\\_rank\\_points & loser\\_rank & loser\\_rank\\_points\\\\\n",
       " <chr> & <chr> & <chr> & <dbl> & <chr> & <dbl> & <dbl> & <dbl> & <dbl> & <chr> & ⋯ & <dbl> & <dbl> & <dbl> & <dbl> & <dbl> & <dbl> & <dbl> & <dbl> & <dbl> & <dbl>\\\\\n",
       "\\hline\n",
       "\t 2019-M020 & Brisbane & Hard & 32 & A & 20181231 & 300 & 105453 &  2 & NA & ⋯ & 54 & 34 & 20 & 14 & 10 & 15 &   9 & 3590 &  16 & 1977\\\\\n",
       "\t 2019-M020 & Brisbane & Hard & 32 & A & 20181231 & 299 & 106421 &  4 & NA & ⋯ & 52 & 36 &  7 & 10 & 10 & 13 &  16 & 1977 & 239 &  200\\\\\n",
       "\t 2019-M020 & Brisbane & Hard & 32 & A & 20181231 & 298 & 105453 &  2 & NA & ⋯ & 27 & 15 &  6 &  8 &  1 &  5 &   9 & 3590 &  40 & 1050\\\\\n",
       "\t 2019-M020 & Brisbane & Hard & 32 & A & 20181231 & 297 & 104542 & NA & PR & ⋯ & 60 & 38 &  9 & 11 &  4 &  6 & 239 &  200 &  31 & 1298\\\\\n",
       "\t 2019-M020 & Brisbane & Hard & 32 & A & 20181231 & 296 & 106421 &  4 & NA & ⋯ & 56 & 46 & 19 & 15 &  2 &  4 &  16 & 1977 &  18 & 1855\\\\\n",
       "\t 2019-M020 & Brisbane & Hard & 32 & A & 20181231 & 295 & 104871 & NA & NA & ⋯ & 54 & 40 & 18 & 15 &  6 &  9 &  40 & 1050 & 185 &  275\\\\\n",
       "\\end{tabular}\n"
      ],
      "text/markdown": [
       "\n",
       "A tibble: 6 × 49\n",
       "\n",
       "| tourney_id &lt;chr&gt; | tourney_name &lt;chr&gt; | surface &lt;chr&gt; | draw_size &lt;dbl&gt; | tourney_level &lt;chr&gt; | tourney_date &lt;dbl&gt; | match_num &lt;dbl&gt; | winner_id &lt;dbl&gt; | winner_seed &lt;dbl&gt; | winner_entry &lt;chr&gt; | ⋯ ⋯ | l_1stIn &lt;dbl&gt; | l_1stWon &lt;dbl&gt; | l_2ndWon &lt;dbl&gt; | l_SvGms &lt;dbl&gt; | l_bpSaved &lt;dbl&gt; | l_bpFaced &lt;dbl&gt; | winner_rank &lt;dbl&gt; | winner_rank_points &lt;dbl&gt; | loser_rank &lt;dbl&gt; | loser_rank_points &lt;dbl&gt; |\n",
       "|---|---|---|---|---|---|---|---|---|---|---|---|---|---|---|---|---|---|---|---|---|\n",
       "| 2019-M020 | Brisbane | Hard | 32 | A | 20181231 | 300 | 105453 |  2 | NA | ⋯ | 54 | 34 | 20 | 14 | 10 | 15 |   9 | 3590 |  16 | 1977 |\n",
       "| 2019-M020 | Brisbane | Hard | 32 | A | 20181231 | 299 | 106421 |  4 | NA | ⋯ | 52 | 36 |  7 | 10 | 10 | 13 |  16 | 1977 | 239 |  200 |\n",
       "| 2019-M020 | Brisbane | Hard | 32 | A | 20181231 | 298 | 105453 |  2 | NA | ⋯ | 27 | 15 |  6 |  8 |  1 |  5 |   9 | 3590 |  40 | 1050 |\n",
       "| 2019-M020 | Brisbane | Hard | 32 | A | 20181231 | 297 | 104542 | NA | PR | ⋯ | 60 | 38 |  9 | 11 |  4 |  6 | 239 |  200 |  31 | 1298 |\n",
       "| 2019-M020 | Brisbane | Hard | 32 | A | 20181231 | 296 | 106421 |  4 | NA | ⋯ | 56 | 46 | 19 | 15 |  2 |  4 |  16 | 1977 |  18 | 1855 |\n",
       "| 2019-M020 | Brisbane | Hard | 32 | A | 20181231 | 295 | 104871 | NA | NA | ⋯ | 54 | 40 | 18 | 15 |  6 |  9 |  40 | 1050 | 185 |  275 |\n",
       "\n"
      ],
      "text/plain": [
       "  tourney_id tourney_name surface draw_size tourney_level tourney_date\n",
       "1 2019-M020  Brisbane     Hard    32        A             20181231    \n",
       "2 2019-M020  Brisbane     Hard    32        A             20181231    \n",
       "3 2019-M020  Brisbane     Hard    32        A             20181231    \n",
       "4 2019-M020  Brisbane     Hard    32        A             20181231    \n",
       "5 2019-M020  Brisbane     Hard    32        A             20181231    \n",
       "6 2019-M020  Brisbane     Hard    32        A             20181231    \n",
       "  match_num winner_id winner_seed winner_entry ⋯ l_1stIn l_1stWon l_2ndWon\n",
       "1 300       105453     2          NA           ⋯ 54      34       20      \n",
       "2 299       106421     4          NA           ⋯ 52      36        7      \n",
       "3 298       105453     2          NA           ⋯ 27      15        6      \n",
       "4 297       104542    NA          PR           ⋯ 60      38        9      \n",
       "5 296       106421     4          NA           ⋯ 56      46       19      \n",
       "6 295       104871    NA          NA           ⋯ 54      40       18      \n",
       "  l_SvGms l_bpSaved l_bpFaced winner_rank winner_rank_points loser_rank\n",
       "1 14      10        15          9         3590                16       \n",
       "2 10      10        13         16         1977               239       \n",
       "3  8       1         5          9         3590                40       \n",
       "4 11       4         6        239          200                31       \n",
       "5 15       2         4         16         1977                18       \n",
       "6 15       6         9         40         1050               185       \n",
       "  loser_rank_points\n",
       "1 1977             \n",
       "2  200             \n",
       "3 1050             \n",
       "4 1298             \n",
       "5 1855             \n",
       "6  275             "
      ]
     },
     "metadata": {},
     "output_type": "display_data"
    }
   ],
   "source": [
    "tennis <- read_csv(\"https://raw.githubusercontent.com/JeffSackmann/tennis_atp/master/atp_matches_2019.csv\", na = c(\"\", \"NA\"))\n",
    "head(tennis)\n"
   ]
  },
  {
   "cell_type": "markdown",
   "id": "e60de126-8c24-4953-a45c-35ab2d18aef2",
   "metadata": {},
   "source": [
    "### Cleaning and tidying dataset"
   ]
  },
  {
   "cell_type": "code",
   "execution_count": 12,
   "id": "5c60b328-a530-4508-8878-48078bd94e5e",
   "metadata": {},
   "outputs": [
    {
     "data": {
      "text/html": [
       "<table class=\"dataframe\">\n",
       "<caption>A tibble: 2769 × 52</caption>\n",
       "<thead>\n",
       "\t<tr><th scope=col>tourney_id</th><th scope=col>tourney_name</th><th scope=col>surface</th><th scope=col>draw_size</th><th scope=col>tourney_level</th><th scope=col>tourney_date</th><th scope=col>match_num</th><th scope=col>winner_id</th><th scope=col>winner_seed</th><th scope=col>winner_entry</th><th scope=col>⋯</th><th scope=col>l_SvGms</th><th scope=col>l_bpSaved</th><th scope=col>l_bpFaced</th><th scope=col>winner_rank</th><th scope=col>winner_rank_points</th><th scope=col>loser_rank</th><th scope=col>loser_rank_points</th><th scope=col>average_player_rank</th><th scope=col>rank_difference</th><th scope=col>average_rank</th></tr>\n",
       "\t<tr><th scope=col>&lt;chr&gt;</th><th scope=col>&lt;chr&gt;</th><th scope=col>&lt;chr&gt;</th><th scope=col>&lt;dbl&gt;</th><th scope=col>&lt;chr&gt;</th><th scope=col>&lt;dbl&gt;</th><th scope=col>&lt;dbl&gt;</th><th scope=col>&lt;dbl&gt;</th><th scope=col>&lt;dbl&gt;</th><th scope=col>&lt;chr&gt;</th><th scope=col>⋯</th><th scope=col>&lt;dbl&gt;</th><th scope=col>&lt;dbl&gt;</th><th scope=col>&lt;dbl&gt;</th><th scope=col>&lt;dbl&gt;</th><th scope=col>&lt;dbl&gt;</th><th scope=col>&lt;dbl&gt;</th><th scope=col>&lt;dbl&gt;</th><th scope=col>&lt;dbl&gt;</th><th scope=col>&lt;dbl&gt;</th><th scope=col>&lt;dbl&gt;</th></tr>\n",
       "</thead>\n",
       "<tbody>\n",
       "\t<tr><td>2019-M020</td><td>Brisbane</td><td>Hard</td><td>32</td><td>A</td><td>20181231</td><td>300</td><td>105453</td><td>2</td><td>NA</td><td>⋯</td><td>14</td><td>10</td><td>15</td><td> 9</td><td>3590</td><td> 16</td><td>1977</td><td>  7</td><td>  7</td><td> 12.5</td></tr>\n",
       "\t<tr><td>2019-M020</td><td>Brisbane</td><td>Hard</td><td>32</td><td>A</td><td>20181231</td><td>299</td><td>106421</td><td>4</td><td>NA</td><td>⋯</td><td>10</td><td>10</td><td>13</td><td>16</td><td>1977</td><td>239</td><td> 200</td><td>223</td><td>223</td><td>127.5</td></tr>\n",
       "\t<tr><td>2019-M020</td><td>Brisbane</td><td>Hard</td><td>32</td><td>A</td><td>20181231</td><td>298</td><td>105453</td><td>2</td><td>NA</td><td>⋯</td><td> 8</td><td> 1</td><td> 5</td><td> 9</td><td>3590</td><td> 40</td><td>1050</td><td> 31</td><td> 31</td><td> 24.5</td></tr>\n",
       "\t<tr><td>⋮</td><td>⋮</td><td>⋮</td><td>⋮</td><td>⋮</td><td>⋮</td><td>⋮</td><td>⋮</td><td>⋮</td><td>⋮</td><td>⋱</td><td>⋮</td><td>⋮</td><td>⋮</td><td>⋮</td><td>⋮</td><td>⋮</td><td>⋮</td><td>⋮</td><td>⋮</td><td>⋮</td></tr>\n",
       "\t<tr><td>2019-9210</td><td>Laver Cup</td><td>Hard</td><td>8</td><td>A</td><td>20190920</td><td>107</td><td>104745</td><td>NA</td><td>NA</td><td>⋯</td><td>NA</td><td>NA</td><td>NA</td><td>  2</td><td>9225</td><td>24</td><td>1450</td><td> 22</td><td> 22</td><td> 13.0</td></tr>\n",
       "\t<tr><td>2019-9210</td><td>Laver Cup</td><td>Hard</td><td>8</td><td>A</td><td>20190920</td><td>108</td><td>106233</td><td>NA</td><td>NA</td><td>⋯</td><td>NA</td><td>NA</td><td>NA</td><td>  5</td><td>4575</td><td>33</td><td>1310</td><td> 28</td><td> 28</td><td> 19.0</td></tr>\n",
       "\t<tr><td>2019-9210</td><td>Laver Cup</td><td>Hard</td><td>8</td><td>A</td><td>20190920</td><td>109</td><td>106058</td><td>NA</td><td>NA</td><td>⋯</td><td>NA</td><td>NA</td><td>NA</td><td>210</td><td> 235</td><td>11</td><td>2475</td><td>199</td><td>199</td><td>110.5</td></tr>\n",
       "</tbody>\n",
       "</table>\n"
      ],
      "text/latex": [
       "A tibble: 2769 × 52\n",
       "\\begin{tabular}{lllllllllllllllllllll}\n",
       " tourney\\_id & tourney\\_name & surface & draw\\_size & tourney\\_level & tourney\\_date & match\\_num & winner\\_id & winner\\_seed & winner\\_entry & ⋯ & l\\_SvGms & l\\_bpSaved & l\\_bpFaced & winner\\_rank & winner\\_rank\\_points & loser\\_rank & loser\\_rank\\_points & average\\_player\\_rank & rank\\_difference & average\\_rank\\\\\n",
       " <chr> & <chr> & <chr> & <dbl> & <chr> & <dbl> & <dbl> & <dbl> & <dbl> & <chr> & ⋯ & <dbl> & <dbl> & <dbl> & <dbl> & <dbl> & <dbl> & <dbl> & <dbl> & <dbl> & <dbl>\\\\\n",
       "\\hline\n",
       "\t 2019-M020 & Brisbane & Hard & 32 & A & 20181231 & 300 & 105453 & 2 & NA & ⋯ & 14 & 10 & 15 &  9 & 3590 &  16 & 1977 &   7 &   7 &  12.5\\\\\n",
       "\t 2019-M020 & Brisbane & Hard & 32 & A & 20181231 & 299 & 106421 & 4 & NA & ⋯ & 10 & 10 & 13 & 16 & 1977 & 239 &  200 & 223 & 223 & 127.5\\\\\n",
       "\t 2019-M020 & Brisbane & Hard & 32 & A & 20181231 & 298 & 105453 & 2 & NA & ⋯ &  8 &  1 &  5 &  9 & 3590 &  40 & 1050 &  31 &  31 &  24.5\\\\\n",
       "\t ⋮ & ⋮ & ⋮ & ⋮ & ⋮ & ⋮ & ⋮ & ⋮ & ⋮ & ⋮ & ⋱ & ⋮ & ⋮ & ⋮ & ⋮ & ⋮ & ⋮ & ⋮ & ⋮ & ⋮ & ⋮\\\\\n",
       "\t 2019-9210 & Laver Cup & Hard & 8 & A & 20190920 & 107 & 104745 & NA & NA & ⋯ & NA & NA & NA &   2 & 9225 & 24 & 1450 &  22 &  22 &  13.0\\\\\n",
       "\t 2019-9210 & Laver Cup & Hard & 8 & A & 20190920 & 108 & 106233 & NA & NA & ⋯ & NA & NA & NA &   5 & 4575 & 33 & 1310 &  28 &  28 &  19.0\\\\\n",
       "\t 2019-9210 & Laver Cup & Hard & 8 & A & 20190920 & 109 & 106058 & NA & NA & ⋯ & NA & NA & NA & 210 &  235 & 11 & 2475 & 199 & 199 & 110.5\\\\\n",
       "\\end{tabular}\n"
      ],
      "text/markdown": [
       "\n",
       "A tibble: 2769 × 52\n",
       "\n",
       "| tourney_id &lt;chr&gt; | tourney_name &lt;chr&gt; | surface &lt;chr&gt; | draw_size &lt;dbl&gt; | tourney_level &lt;chr&gt; | tourney_date &lt;dbl&gt; | match_num &lt;dbl&gt; | winner_id &lt;dbl&gt; | winner_seed &lt;dbl&gt; | winner_entry &lt;chr&gt; | ⋯ ⋯ | l_SvGms &lt;dbl&gt; | l_bpSaved &lt;dbl&gt; | l_bpFaced &lt;dbl&gt; | winner_rank &lt;dbl&gt; | winner_rank_points &lt;dbl&gt; | loser_rank &lt;dbl&gt; | loser_rank_points &lt;dbl&gt; | average_player_rank &lt;dbl&gt; | rank_difference &lt;dbl&gt; | average_rank &lt;dbl&gt; |\n",
       "|---|---|---|---|---|---|---|---|---|---|---|---|---|---|---|---|---|---|---|---|---|\n",
       "| 2019-M020 | Brisbane | Hard | 32 | A | 20181231 | 300 | 105453 | 2 | NA | ⋯ | 14 | 10 | 15 |  9 | 3590 |  16 | 1977 |   7 |   7 |  12.5 |\n",
       "| 2019-M020 | Brisbane | Hard | 32 | A | 20181231 | 299 | 106421 | 4 | NA | ⋯ | 10 | 10 | 13 | 16 | 1977 | 239 |  200 | 223 | 223 | 127.5 |\n",
       "| 2019-M020 | Brisbane | Hard | 32 | A | 20181231 | 298 | 105453 | 2 | NA | ⋯ |  8 |  1 |  5 |  9 | 3590 |  40 | 1050 |  31 |  31 |  24.5 |\n",
       "| ⋮ | ⋮ | ⋮ | ⋮ | ⋮ | ⋮ | ⋮ | ⋮ | ⋮ | ⋮ | ⋱ | ⋮ | ⋮ | ⋮ | ⋮ | ⋮ | ⋮ | ⋮ | ⋮ | ⋮ | ⋮ |\n",
       "| 2019-9210 | Laver Cup | Hard | 8 | A | 20190920 | 107 | 104745 | NA | NA | ⋯ | NA | NA | NA |   2 | 9225 | 24 | 1450 |  22 |  22 |  13.0 |\n",
       "| 2019-9210 | Laver Cup | Hard | 8 | A | 20190920 | 108 | 106233 | NA | NA | ⋯ | NA | NA | NA |   5 | 4575 | 33 | 1310 |  28 |  28 |  19.0 |\n",
       "| 2019-9210 | Laver Cup | Hard | 8 | A | 20190920 | 109 | 106058 | NA | NA | ⋯ | NA | NA | NA | 210 |  235 | 11 | 2475 | 199 | 199 | 110.5 |\n",
       "\n"
      ],
      "text/plain": [
       "     tourney_id tourney_name surface draw_size tourney_level tourney_date\n",
       "1    2019-M020  Brisbane     Hard    32        A             20181231    \n",
       "2    2019-M020  Brisbane     Hard    32        A             20181231    \n",
       "3    2019-M020  Brisbane     Hard    32        A             20181231    \n",
       "⋮    ⋮          ⋮            ⋮       ⋮         ⋮             ⋮           \n",
       "2767 2019-9210  Laver Cup    Hard    8         A             20190920    \n",
       "2768 2019-9210  Laver Cup    Hard    8         A             20190920    \n",
       "2769 2019-9210  Laver Cup    Hard    8         A             20190920    \n",
       "     match_num winner_id winner_seed winner_entry ⋯ l_SvGms l_bpSaved l_bpFaced\n",
       "1    300       105453    2           NA           ⋯ 14      10        15       \n",
       "2    299       106421    4           NA           ⋯ 10      10        13       \n",
       "3    298       105453    2           NA           ⋯  8       1         5       \n",
       "⋮    ⋮         ⋮         ⋮           ⋮            ⋱ ⋮       ⋮         ⋮        \n",
       "2767 107       104745    NA          NA           ⋯ NA      NA        NA       \n",
       "2768 108       106233    NA          NA           ⋯ NA      NA        NA       \n",
       "2769 109       106058    NA          NA           ⋯ NA      NA        NA       \n",
       "     winner_rank winner_rank_points loser_rank loser_rank_points\n",
       "1     9          3590                16        1977             \n",
       "2    16          1977               239         200             \n",
       "3     9          3590                40        1050             \n",
       "⋮    ⋮           ⋮                  ⋮          ⋮                \n",
       "2767   2         9225               24         1450             \n",
       "2768   5         4575               33         1310             \n",
       "2769 210          235               11         2475             \n",
       "     average_player_rank rank_difference average_rank\n",
       "1      7                   7              12.5       \n",
       "2    223                 223             127.5       \n",
       "3     31                  31              24.5       \n",
       "⋮    ⋮                   ⋮               ⋮           \n",
       "2767  22                  22              13.0       \n",
       "2768  28                  28              19.0       \n",
       "2769 199                 199             110.5       "
      ]
     },
     "metadata": {},
     "output_type": "display_data"
    }
   ],
   "source": [
    "##Get statistics for winner & loser average height, age\n",
    "tennis <- tennis[!(is.na(tennis$winner_ht) | is.na(tennis$loser_ht)), ]\n",
    "tennis <- tennis |>\n",
    "          mutate(rank_difference = sqrt((winner_rank - loser_rank)^2)) |>\n",
    "          mutate(average_rank = (winner_rank + loser_rank)/2) \n",
    "tennis"
   ]
  },
  {
   "cell_type": "markdown",
   "id": "d01a4624-2a0f-417f-9ec5-236a27277581",
   "metadata": {},
   "source": [
    "### Splitting the data (training and testing)"
   ]
  },
  {
   "cell_type": "code",
   "execution_count": 11,
   "id": "e8a650c3-b0c5-4c8f-a701-76f0bdbcb003",
   "metadata": {},
   "outputs": [
    {
     "name": "stderr",
     "output_type": "stream",
     "text": [
      "Warning message:\n",
      "“Too little data to stratify.\n",
      "\u001b[36m•\u001b[39m Resampling will be unstratified.”\n"
     ]
    }
   ],
   "source": [
    "set.seed(69)\n",
    "tennis_split <- initial_split(tennis, prop = 0.75, strata = winner_name)\n",
    "tennis_training <- training(tennis_split)\n",
    "tennis_testing <- testing(tennis_split)"
   ]
  },
  {
   "cell_type": "markdown",
   "id": "84bcb817-cb89-4e3c-a61f-44966fa91702",
   "metadata": {},
   "source": [
    "### Summarzation of data"
   ]
  },
  {
   "cell_type": "markdown",
   "id": "e26bd20e-11a5-405f-8850-2f0dc7e47b8f",
   "metadata": {},
   "source": [
    "### Visualizing the data"
   ]
  },
  {
   "cell_type": "markdown",
   "id": "9061ac15-2d26-44e6-84f2-af25169f178a",
   "metadata": {},
   "source": [
    "say some stuff about visualizations (need new columns)"
   ]
  },
  {
   "cell_type": "markdown",
   "id": "7f6b0f91-17e5-41db-b3c9-088d1175084b",
   "metadata": {},
   "source": [
    "### Adding new columns for analysis (win percentage for both players)"
   ]
  },
  {
   "cell_type": "code",
   "execution_count": 5,
   "id": "aa075e91-5cbe-4c4f-ac39-e457170f72b0",
   "metadata": {},
   "outputs": [
    {
     "name": "stderr",
     "output_type": "stream",
     "text": [
      "Warning message:\n",
      "“\u001b[1m\u001b[22mThere were 48 warnings in `summarize()`.\n",
      "The first warning was:\n",
      "\u001b[1m\u001b[22m\u001b[36mℹ\u001b[39m In argument: `winner_winning_match_count = sum(tennis_training$winner_name ==\n",
      "  winner_name)`.\n",
      "\u001b[36mℹ\u001b[39m In group 42: `winner_name = \"Alex De Minaur\"`, `tourney_name = \"Sydney\"`.\n",
      "Caused by warning in `tennis_training$winner_name == winner_name`:\n",
      "\u001b[33m!\u001b[39m longer object length is not a multiple of shorter object length\n",
      "\u001b[1m\u001b[22m\u001b[36mℹ\u001b[39m Run `dplyr::last_dplyr_warnings()` to see the 47 remaining warnings.”\n",
      "Warning message:\n",
      "“\u001b[1m\u001b[22mReturning more (or less) than 1 row per `summarise()` group was deprecated in\n",
      "dplyr 1.1.0.\n",
      "\u001b[36mℹ\u001b[39m Please use `reframe()` instead.\n",
      "\u001b[36mℹ\u001b[39m When switching from `summarise()` to `reframe()`, remember that `reframe()`\n",
      "  always returns an ungrouped data frame and adjust accordingly.”\n",
      "\u001b[1m\u001b[22m`summarise()` has grouped output by 'winner_name', 'tourney_name'. You can\n",
      "override using the `.groups` argument.\n"
     ]
    },
    {
     "data": {
      "text/html": [
       "<table class=\"dataframe\">\n",
       "<caption>A grouped_df: 2076 × 10</caption>\n",
       "<thead>\n",
       "\t<tr><th scope=col>winner_name</th><th scope=col>tourney_name</th><th scope=col>winner_winning_match_count</th><th scope=col>winner_losing_match_count</th><th scope=col>winner_rank</th><th scope=col>loser_rank</th><th scope=col>loser_name</th><th scope=col>match_num</th><th scope=col>winner_match_count</th><th scope=col>winner_win_percent</th></tr>\n",
       "\t<tr><th scope=col>&lt;chr&gt;</th><th scope=col>&lt;chr&gt;</th><th scope=col>&lt;int&gt;</th><th scope=col>&lt;int&gt;</th><th scope=col>&lt;dbl&gt;</th><th scope=col>&lt;dbl&gt;</th><th scope=col>&lt;chr&gt;</th><th scope=col>&lt;dbl&gt;</th><th scope=col>&lt;int&gt;</th><th scope=col>&lt;dbl&gt;</th></tr>\n",
       "</thead>\n",
       "<tbody>\n",
       "\t<tr><td>Benjamin Hassan</td><td>Davis Cup G1 R1: UZB vs LBN</td><td>2</td><td>0</td><td>303</td><td>383</td><td>Khumoun Sultanov</td><td>2</td><td>2</td><td>1</td></tr>\n",
       "\t<tr><td>Benjamin Hassan</td><td>Davis Cup G1 R1: UZB vs LBN</td><td>2</td><td>0</td><td>303</td><td>362</td><td>Sanjar Fayziev  </td><td>4</td><td>2</td><td>1</td></tr>\n",
       "\t<tr><td>Benjamin Lock  </td><td>Davis Cup G2 R1: ROU vs ZIM</td><td>1</td><td>0</td><td>546</td><td> 80</td><td>Marius Copil    </td><td>1</td><td>1</td><td>1</td></tr>\n",
       "\t<tr><td>⋮</td><td>⋮</td><td>⋮</td><td>⋮</td><td>⋮</td><td>⋮</td><td>⋮</td><td>⋮</td><td>⋮</td><td>⋮</td></tr>\n",
       "\t<tr><td>Malek Jaziri </td><td>Cordoba             </td><td>2</td><td>13</td><td> 43</td><td>135</td><td>Carlos Berlocq        </td><td>282</td><td>15</td><td>0.1333333</td></tr>\n",
       "\t<tr><td>Malek Jaziri </td><td>Indian Wells Masters</td><td>2</td><td>13</td><td> 60</td><td> 90</td><td>Bradley Klahn         </td><td>224</td><td>15</td><td>0.1333333</td></tr>\n",
       "\t<tr><td>Jozef Kovalik</td><td>Kitzbuhel           </td><td>1</td><td> 8</td><td>326</td><td>158</td><td>Guillermo Garcia Lopez</td><td>280</td><td> 9</td><td>0.1111111</td></tr>\n",
       "</tbody>\n",
       "</table>\n"
      ],
      "text/latex": [
       "A grouped\\_df: 2076 × 10\n",
       "\\begin{tabular}{llllllllll}\n",
       " winner\\_name & tourney\\_name & winner\\_winning\\_match\\_count & winner\\_losing\\_match\\_count & winner\\_rank & loser\\_rank & loser\\_name & match\\_num & winner\\_match\\_count & winner\\_win\\_percent\\\\\n",
       " <chr> & <chr> & <int> & <int> & <dbl> & <dbl> & <chr> & <dbl> & <int> & <dbl>\\\\\n",
       "\\hline\n",
       "\t Benjamin Hassan & Davis Cup G1 R1: UZB vs LBN & 2 & 0 & 303 & 383 & Khumoun Sultanov & 2 & 2 & 1\\\\\n",
       "\t Benjamin Hassan & Davis Cup G1 R1: UZB vs LBN & 2 & 0 & 303 & 362 & Sanjar Fayziev   & 4 & 2 & 1\\\\\n",
       "\t Benjamin Lock   & Davis Cup G2 R1: ROU vs ZIM & 1 & 0 & 546 &  80 & Marius Copil     & 1 & 1 & 1\\\\\n",
       "\t ⋮ & ⋮ & ⋮ & ⋮ & ⋮ & ⋮ & ⋮ & ⋮ & ⋮ & ⋮\\\\\n",
       "\t Malek Jaziri  & Cordoba              & 2 & 13 &  43 & 135 & Carlos Berlocq         & 282 & 15 & 0.1333333\\\\\n",
       "\t Malek Jaziri  & Indian Wells Masters & 2 & 13 &  60 &  90 & Bradley Klahn          & 224 & 15 & 0.1333333\\\\\n",
       "\t Jozef Kovalik & Kitzbuhel            & 1 &  8 & 326 & 158 & Guillermo Garcia Lopez & 280 &  9 & 0.1111111\\\\\n",
       "\\end{tabular}\n"
      ],
      "text/markdown": [
       "\n",
       "A grouped_df: 2076 × 10\n",
       "\n",
       "| winner_name &lt;chr&gt; | tourney_name &lt;chr&gt; | winner_winning_match_count &lt;int&gt; | winner_losing_match_count &lt;int&gt; | winner_rank &lt;dbl&gt; | loser_rank &lt;dbl&gt; | loser_name &lt;chr&gt; | match_num &lt;dbl&gt; | winner_match_count &lt;int&gt; | winner_win_percent &lt;dbl&gt; |\n",
       "|---|---|---|---|---|---|---|---|---|---|\n",
       "| Benjamin Hassan | Davis Cup G1 R1: UZB vs LBN | 2 | 0 | 303 | 383 | Khumoun Sultanov | 2 | 2 | 1 |\n",
       "| Benjamin Hassan | Davis Cup G1 R1: UZB vs LBN | 2 | 0 | 303 | 362 | Sanjar Fayziev   | 4 | 2 | 1 |\n",
       "| Benjamin Lock   | Davis Cup G2 R1: ROU vs ZIM | 1 | 0 | 546 |  80 | Marius Copil     | 1 | 1 | 1 |\n",
       "| ⋮ | ⋮ | ⋮ | ⋮ | ⋮ | ⋮ | ⋮ | ⋮ | ⋮ | ⋮ |\n",
       "| Malek Jaziri  | Cordoba              | 2 | 13 |  43 | 135 | Carlos Berlocq         | 282 | 15 | 0.1333333 |\n",
       "| Malek Jaziri  | Indian Wells Masters | 2 | 13 |  60 |  90 | Bradley Klahn          | 224 | 15 | 0.1333333 |\n",
       "| Jozef Kovalik | Kitzbuhel            | 1 |  8 | 326 | 158 | Guillermo Garcia Lopez | 280 |  9 | 0.1111111 |\n",
       "\n"
      ],
      "text/plain": [
       "     winner_name     tourney_name                winner_winning_match_count\n",
       "1    Benjamin Hassan Davis Cup G1 R1: UZB vs LBN 2                         \n",
       "2    Benjamin Hassan Davis Cup G1 R1: UZB vs LBN 2                         \n",
       "3    Benjamin Lock   Davis Cup G2 R1: ROU vs ZIM 1                         \n",
       "⋮    ⋮               ⋮                           ⋮                         \n",
       "2074 Malek Jaziri    Cordoba                     2                         \n",
       "2075 Malek Jaziri    Indian Wells Masters        2                         \n",
       "2076 Jozef Kovalik   Kitzbuhel                   1                         \n",
       "     winner_losing_match_count winner_rank loser_rank loser_name            \n",
       "1    0                         303         383        Khumoun Sultanov      \n",
       "2    0                         303         362        Sanjar Fayziev        \n",
       "3    0                         546          80        Marius Copil          \n",
       "⋮    ⋮                         ⋮           ⋮          ⋮                     \n",
       "2074 13                         43         135        Carlos Berlocq        \n",
       "2075 13                         60          90        Bradley Klahn         \n",
       "2076  8                        326         158        Guillermo Garcia Lopez\n",
       "     match_num winner_match_count winner_win_percent\n",
       "1    2         2                  1                 \n",
       "2    4         2                  1                 \n",
       "3    1         1                  1                 \n",
       "⋮    ⋮         ⋮                  ⋮                 \n",
       "2074 282       15                 0.1333333         \n",
       "2075 224       15                 0.1333333         \n",
       "2076 280        9                 0.1111111         "
      ]
     },
     "metadata": {},
     "output_type": "display_data"
    }
   ],
   "source": [
    "##Get data for each player by tournament\n",
    "players_data <- tennis_training |>\n",
    "    group_by(winner_name, tourney_name) |>\n",
    "    summarize(\n",
    "        winner_winning_match_count = sum(tennis_training$winner_name == winner_name),\n",
    "        winner_losing_match_count = sum(tennis_training$loser_name == winner_name),\n",
    "        winner_rank = winner_rank,\n",
    "        loser_rank = loser_rank,\n",
    "        loser_name = loser_name,\n",
    "        match_num = match_num, \n",
    "        winner_match_count = winner_winning_match_count + winner_losing_match_count,\n",
    "        winner_win_percent = winner_winning_match_count / winner_match_count\n",
    "    )|>\n",
    "    arrange(desc(winner_win_percent))\n",
    "players_data\n",
    "## Winner rank (of a match)\n",
    "average_winner_ranks <- players_data |>\n",
    "    group_by(winner_name) |>\n",
    "    summarize(avg_rank = mean(winner_rank, na.rm = TRUE),\n",
    "             winner_win_percent = mean(winner_win_percent, na.rm = TRUE),\n",
    "             winner_match_count = mean(winner_match_count, na.rm = TRUE),\n",
    "             winner_winning_match_count = mean(winner_winning_match_count, na.rm = TRUE),\n",
    "             winner_losing_match_count = mean(winner_losing_match_count, na.rm = TRUE)) |>\n",
    "    arrange(avg_rank)\n",
    "\n",
    "## Loser rank (of a match)\n",
    "average_loser_ranks <- players_data |>\n",
    "    group_by(loser_name) |>\n",
    "    summarize(avg_rank = mean(loser_rank, na.rm = TRUE)) |>\n",
    "    arrange(avg_rank)"
   ]
  },
  {
   "cell_type": "code",
   "execution_count": 6,
   "id": "509f3e05-1c02-4b0b-82dd-34c3dd636b20",
   "metadata": {},
   "outputs": [
    {
     "name": "stderr",
     "output_type": "stream",
     "text": [
      "\u001b[1m\u001b[22mNew names:\n",
      "\u001b[36m•\u001b[39m `` -> `...11`\n",
      "\u001b[36m•\u001b[39m `` -> `...12`\n"
     ]
    }
   ],
   "source": [
    "loser_winrates <- c()\n",
    "\n",
    "for (x in 1:nrow(players_data)) {\n",
    "    row <- players_data[x, ]\n",
    "    match <- \"FALSE\"\n",
    "    \n",
    "    for (y in 1:nrow(average_winner_ranks)) {\n",
    "        row2 <- average_winner_ranks[y, ]\n",
    "        if (row$loser_name == row2$winner_name) {\n",
    "            loser_winrate <- row2$winner_win_percent\n",
    "            loser_winning_match_count <- row2$winner_winning_match_count\n",
    "\n",
    "            vec <- c(loser_winrate, loser_winning_match_count)\n",
    "            \n",
    "            loser_winrates <- rbind(loser_winrates, vec)\n",
    "            match <- \"TRUE\"\n",
    "            break\n",
    "        }\n",
    "\n",
    "    }\n",
    "\n",
    "    if (match == \"FALSE\") {\n",
    "        vec <- c(0, 0)\n",
    "        loser_winrates <- rbind(loser_winrates, vec)\n",
    "    }\n",
    "}\n",
    "\n",
    "match_data <- cbind(players_data, loser_winrates)\n",
    "names(match_data)[names(match_data) == \"...11\"] <- \"loser_win_percentage\"\n",
    "names(match_data)[names(match_data) == \"...12\"] <- \"loser_matches_won\"\n",
    "\n",
    "\n"
   ]
  },
  {
   "cell_type": "code",
   "execution_count": 7,
   "id": "239f0e29-f7bd-4fe6-9303-a8bbe37d19c3",
   "metadata": {},
   "outputs": [
    {
     "ename": "ERROR",
     "evalue": "Error in eval(expr, envir, enclos): object 'match_training' not found\n",
     "output_type": "error",
     "traceback": [
      "Error in eval(expr, envir, enclos): object 'match_training' not found\nTraceback:\n",
      "1. ggplot(match_training, aes(x = winner_rank, y = winner_win_percent))"
     ]
    }
   ],
   "source": [
    "##Summarized data\n",
    "\n",
    "match_training <- \n",
    "\n",
    "\n",
    "## Note: average rank is slightly inaccurate due to not taking into consideration the ranks when players lost their match\n",
    "## For example, Federer's significant ranking difference between the two tables is mostly likely due to a bad tournament where he lost many games and his ranking dropped as a result.\n",
    "\n",
    "## Sample plot of winner_rank vs win_percentage\n",
    "winner_plot <- ggplot(match_training, aes(x=winner_rank, y=winner_win_percent)) +\n",
    "    geom_point(alpha = 0.3) +\n",
    "    ggtitle(\"Win rate vs Percent of Matches won\")\n",
    "winner_plot\n"
   ]
  },
  {
   "cell_type": "markdown",
   "id": "4b526e0c-236c-497c-b086-fffbd2162601",
   "metadata": {},
   "source": [
    "### Expected Outcomes and Significance (Need to edit to become discussion)\n",
    "o?\n",
    "\n",
    "We expect to find the winner between two professional tennis players with a greater accuracy than other simpler forms of prediction.These findings could help professional coaches and fans discover players with higher potential and allow them to decide whom to invest their time in. These findings could also lead to future questions such as “Which player will win a certain tournament?” or on a larger scale, we could ask “Which player will be ranked the highest in the future based on their predicted tournament wins?” Overall, we hope that our predictor will be effective at determining the winner of a tennis match and that it will be useful in future applications. "
   ]
  },
  {
   "cell_type": "markdown",
   "id": "b26abfad-88d4-442f-9ef3-67dabaef1bd8",
   "metadata": {},
   "source": [
    "### Discussion \n",
    "\n",
    "- summarize what you found\r",
    "- \n",
    "discuss whether this is what you expected to find\n",
    "- discuss what impact could such findings have?\n",
    "- discuss what future questiosn could this lead to?\n",
    "  to?"
   ]
  },
  {
   "cell_type": "markdown",
   "id": "8f4e3851-0269-420b-b133-3bc3e9eb8cfb",
   "metadata": {},
   "source": [
    "Fernandez, J. “Intensity of Tennis Match Play * Commentary.” British Journal of Sports Medicine, vol. 40, no. 5, 1 May 2006, pp. 387–391, https://doi.org/10.1136/bjsm.2005.023168."
   ]
  },
  {
   "cell_type": "code",
   "execution_count": null,
   "id": "ab53265e-5df5-4e43-9045-e3ef1fffd64f",
   "metadata": {},
   "outputs": [],
   "source": []
  }
 ],
 "metadata": {
  "kernelspec": {
   "display_name": "R",
   "language": "R",
   "name": "ir"
  },
  "language_info": {
   "codemirror_mode": "r",
   "file_extension": ".r",
   "mimetype": "text/x-r-source",
   "name": "R",
   "pygments_lexer": "r",
   "version": "4.3.1"
  }
 },
 "nbformat": 4,
 "nbformat_minor": 5
}
