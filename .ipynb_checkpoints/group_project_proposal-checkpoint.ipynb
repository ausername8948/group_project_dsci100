{
 "cells": [
  {
   "cell_type": "markdown",
   "id": "a8a82e18-41cf-407e-a527-1364cfd88f4a",
   "metadata": {},
   "source": [
    "# Group Project Proposal"
   ]
  },
  {
   "cell_type": "markdown",
   "id": "ff3e5532-bbb4-4d84-8551-89de1f1df267",
   "metadata": {},
   "source": [
    "## Introduction"
   ]
  },
  {
   "cell_type": "code",
   "execution_count": 2,
   "id": "a8031a1f-6333-469f-ae73-4094352cb5fd",
   "metadata": {},
   "outputs": [
    {
     "name": "stderr",
     "output_type": "stream",
     "text": [
      "── \u001b[1mAttaching core tidyverse packages\u001b[22m ──────────────────────── tidyverse 2.0.0 ──\n",
      "\u001b[32m✔\u001b[39m \u001b[34mdplyr    \u001b[39m 1.1.3     \u001b[32m✔\u001b[39m \u001b[34mreadr    \u001b[39m 2.1.4\n",
      "\u001b[32m✔\u001b[39m \u001b[34mforcats  \u001b[39m 1.0.0     \u001b[32m✔\u001b[39m \u001b[34mstringr  \u001b[39m 1.5.0\n",
      "\u001b[32m✔\u001b[39m \u001b[34mggplot2  \u001b[39m 3.4.4     \u001b[32m✔\u001b[39m \u001b[34mtibble   \u001b[39m 3.2.1\n",
      "\u001b[32m✔\u001b[39m \u001b[34mlubridate\u001b[39m 1.9.3     \u001b[32m✔\u001b[39m \u001b[34mtidyr    \u001b[39m 1.3.0\n",
      "\u001b[32m✔\u001b[39m \u001b[34mpurrr    \u001b[39m 1.0.2     \n",
      "── \u001b[1mConflicts\u001b[22m ────────────────────────────────────────── tidyverse_conflicts() ──\n",
      "\u001b[31m✖\u001b[39m \u001b[34mdplyr\u001b[39m::\u001b[32mfilter()\u001b[39m masks \u001b[34mstats\u001b[39m::filter()\n",
      "\u001b[31m✖\u001b[39m \u001b[34mdplyr\u001b[39m::\u001b[32mlag()\u001b[39m    masks \u001b[34mstats\u001b[39m::lag()\n",
      "\u001b[36mℹ\u001b[39m Use the conflicted package (\u001b[3m\u001b[34m<http://conflicted.r-lib.org/>\u001b[39m\u001b[23m) to force all conflicts to become errors\n"
     ]
    }
   ],
   "source": [
    "options(repr.matrix.max.rows = 6)\n",
    "\n",
    "library(tidyverse)\n",
    "library(repr)"
   ]
  },
  {
   "cell_type": "code",
   "execution_count": 3,
   "id": "92d72ff8-ea98-4f27-bf56-18abcb352718",
   "metadata": {},
   "outputs": [
    {
     "name": "stderr",
     "output_type": "stream",
     "text": [
      "\u001b[1m\u001b[22mNew names:\n",
      "\u001b[36m•\u001b[39m `` -> `...1`\n",
      "\u001b[1mRows: \u001b[22m\u001b[34m6866\u001b[39m \u001b[1mColumns: \u001b[22m\u001b[34m50\u001b[39m\n",
      "\u001b[36m──\u001b[39m \u001b[1mColumn specification\u001b[22m \u001b[36m────────────────────────────────────────────────────────\u001b[39m\n",
      "\u001b[1mDelimiter:\u001b[22m \",\"\n",
      "\u001b[31mchr\u001b[39m (16): tourney_id, tourney_name, surface, tourney_level, winner_seed, win...\n",
      "\u001b[32mdbl\u001b[39m (34): ...1, draw_size, tourney_date, match_num, winner_id, winner_ht, wi...\n",
      "\n",
      "\u001b[36mℹ\u001b[39m Use `spec()` to retrieve the full column specification for this data.\n",
      "\u001b[36mℹ\u001b[39m Specify the column types or set `show_col_types = FALSE` to quiet this message.\n"
     ]
    },
    {
     "data": {
      "text/html": [
       "<table class=\"dataframe\">\n",
       "<caption>A tibble: 6 × 50</caption>\n",
       "<thead>\n",
       "\t<tr><th scope=col>...1</th><th scope=col>tourney_id</th><th scope=col>tourney_name</th><th scope=col>surface</th><th scope=col>draw_size</th><th scope=col>tourney_level</th><th scope=col>tourney_date</th><th scope=col>match_num</th><th scope=col>winner_id</th><th scope=col>winner_seed</th><th scope=col>⋯</th><th scope=col>l_1stIn</th><th scope=col>l_1stWon</th><th scope=col>l_2ndWon</th><th scope=col>l_SvGms</th><th scope=col>l_bpSaved</th><th scope=col>l_bpFaced</th><th scope=col>winner_rank</th><th scope=col>winner_rank_points</th><th scope=col>loser_rank</th><th scope=col>loser_rank_points</th></tr>\n",
       "\t<tr><th scope=col>&lt;dbl&gt;</th><th scope=col>&lt;chr&gt;</th><th scope=col>&lt;chr&gt;</th><th scope=col>&lt;chr&gt;</th><th scope=col>&lt;dbl&gt;</th><th scope=col>&lt;chr&gt;</th><th scope=col>&lt;dbl&gt;</th><th scope=col>&lt;dbl&gt;</th><th scope=col>&lt;dbl&gt;</th><th scope=col>&lt;chr&gt;</th><th scope=col>⋯</th><th scope=col>&lt;dbl&gt;</th><th scope=col>&lt;dbl&gt;</th><th scope=col>&lt;dbl&gt;</th><th scope=col>&lt;dbl&gt;</th><th scope=col>&lt;dbl&gt;</th><th scope=col>&lt;dbl&gt;</th><th scope=col>&lt;dbl&gt;</th><th scope=col>&lt;dbl&gt;</th><th scope=col>&lt;dbl&gt;</th><th scope=col>&lt;dbl&gt;</th></tr>\n",
       "</thead>\n",
       "<tbody>\n",
       "\t<tr><td>0</td><td>2019-M020</td><td>Brisbane</td><td>Hard</td><td>32</td><td>A</td><td>20181231</td><td>300</td><td>105453</td><td>2 </td><td>⋯</td><td>54</td><td>34</td><td>20</td><td>14</td><td>10</td><td>15</td><td>  9</td><td>3590</td><td> 16</td><td>1977</td></tr>\n",
       "\t<tr><td>1</td><td>2019-M020</td><td>Brisbane</td><td>Hard</td><td>32</td><td>A</td><td>20181231</td><td>299</td><td>106421</td><td>4 </td><td>⋯</td><td>52</td><td>36</td><td> 7</td><td>10</td><td>10</td><td>13</td><td> 16</td><td>1977</td><td>239</td><td> 200</td></tr>\n",
       "\t<tr><td>2</td><td>2019-M020</td><td>Brisbane</td><td>Hard</td><td>32</td><td>A</td><td>20181231</td><td>298</td><td>105453</td><td>2 </td><td>⋯</td><td>27</td><td>15</td><td> 6</td><td> 8</td><td> 1</td><td> 5</td><td>  9</td><td>3590</td><td> 40</td><td>1050</td></tr>\n",
       "\t<tr><td>3</td><td>2019-M020</td><td>Brisbane</td><td>Hard</td><td>32</td><td>A</td><td>20181231</td><td>297</td><td>104542</td><td>NA</td><td>⋯</td><td>60</td><td>38</td><td> 9</td><td>11</td><td> 4</td><td> 6</td><td>239</td><td> 200</td><td> 31</td><td>1298</td></tr>\n",
       "\t<tr><td>4</td><td>2019-M020</td><td>Brisbane</td><td>Hard</td><td>32</td><td>A</td><td>20181231</td><td>296</td><td>106421</td><td>4 </td><td>⋯</td><td>56</td><td>46</td><td>19</td><td>15</td><td> 2</td><td> 4</td><td> 16</td><td>1977</td><td> 18</td><td>1855</td></tr>\n",
       "\t<tr><td>5</td><td>2019-M020</td><td>Brisbane</td><td>Hard</td><td>32</td><td>A</td><td>20181231</td><td>295</td><td>104871</td><td>NA</td><td>⋯</td><td>54</td><td>40</td><td>18</td><td>15</td><td> 6</td><td> 9</td><td> 40</td><td>1050</td><td>185</td><td> 275</td></tr>\n",
       "</tbody>\n",
       "</table>\n"
      ],
      "text/latex": [
       "A tibble: 6 × 50\n",
       "\\begin{tabular}{lllllllllllllllllllll}\n",
       " ...1 & tourney\\_id & tourney\\_name & surface & draw\\_size & tourney\\_level & tourney\\_date & match\\_num & winner\\_id & winner\\_seed & ⋯ & l\\_1stIn & l\\_1stWon & l\\_2ndWon & l\\_SvGms & l\\_bpSaved & l\\_bpFaced & winner\\_rank & winner\\_rank\\_points & loser\\_rank & loser\\_rank\\_points\\\\\n",
       " <dbl> & <chr> & <chr> & <chr> & <dbl> & <chr> & <dbl> & <dbl> & <dbl> & <chr> & ⋯ & <dbl> & <dbl> & <dbl> & <dbl> & <dbl> & <dbl> & <dbl> & <dbl> & <dbl> & <dbl>\\\\\n",
       "\\hline\n",
       "\t 0 & 2019-M020 & Brisbane & Hard & 32 & A & 20181231 & 300 & 105453 & 2  & ⋯ & 54 & 34 & 20 & 14 & 10 & 15 &   9 & 3590 &  16 & 1977\\\\\n",
       "\t 1 & 2019-M020 & Brisbane & Hard & 32 & A & 20181231 & 299 & 106421 & 4  & ⋯ & 52 & 36 &  7 & 10 & 10 & 13 &  16 & 1977 & 239 &  200\\\\\n",
       "\t 2 & 2019-M020 & Brisbane & Hard & 32 & A & 20181231 & 298 & 105453 & 2  & ⋯ & 27 & 15 &  6 &  8 &  1 &  5 &   9 & 3590 &  40 & 1050\\\\\n",
       "\t 3 & 2019-M020 & Brisbane & Hard & 32 & A & 20181231 & 297 & 104542 & NA & ⋯ & 60 & 38 &  9 & 11 &  4 &  6 & 239 &  200 &  31 & 1298\\\\\n",
       "\t 4 & 2019-M020 & Brisbane & Hard & 32 & A & 20181231 & 296 & 106421 & 4  & ⋯ & 56 & 46 & 19 & 15 &  2 &  4 &  16 & 1977 &  18 & 1855\\\\\n",
       "\t 5 & 2019-M020 & Brisbane & Hard & 32 & A & 20181231 & 295 & 104871 & NA & ⋯ & 54 & 40 & 18 & 15 &  6 &  9 &  40 & 1050 & 185 &  275\\\\\n",
       "\\end{tabular}\n"
      ],
      "text/markdown": [
       "\n",
       "A tibble: 6 × 50\n",
       "\n",
       "| ...1 &lt;dbl&gt; | tourney_id &lt;chr&gt; | tourney_name &lt;chr&gt; | surface &lt;chr&gt; | draw_size &lt;dbl&gt; | tourney_level &lt;chr&gt; | tourney_date &lt;dbl&gt; | match_num &lt;dbl&gt; | winner_id &lt;dbl&gt; | winner_seed &lt;chr&gt; | ⋯ ⋯ | l_1stIn &lt;dbl&gt; | l_1stWon &lt;dbl&gt; | l_2ndWon &lt;dbl&gt; | l_SvGms &lt;dbl&gt; | l_bpSaved &lt;dbl&gt; | l_bpFaced &lt;dbl&gt; | winner_rank &lt;dbl&gt; | winner_rank_points &lt;dbl&gt; | loser_rank &lt;dbl&gt; | loser_rank_points &lt;dbl&gt; |\n",
       "|---|---|---|---|---|---|---|---|---|---|---|---|---|---|---|---|---|---|---|---|---|\n",
       "| 0 | 2019-M020 | Brisbane | Hard | 32 | A | 20181231 | 300 | 105453 | 2  | ⋯ | 54 | 34 | 20 | 14 | 10 | 15 |   9 | 3590 |  16 | 1977 |\n",
       "| 1 | 2019-M020 | Brisbane | Hard | 32 | A | 20181231 | 299 | 106421 | 4  | ⋯ | 52 | 36 |  7 | 10 | 10 | 13 |  16 | 1977 | 239 |  200 |\n",
       "| 2 | 2019-M020 | Brisbane | Hard | 32 | A | 20181231 | 298 | 105453 | 2  | ⋯ | 27 | 15 |  6 |  8 |  1 |  5 |   9 | 3590 |  40 | 1050 |\n",
       "| 3 | 2019-M020 | Brisbane | Hard | 32 | A | 20181231 | 297 | 104542 | NA | ⋯ | 60 | 38 |  9 | 11 |  4 |  6 | 239 |  200 |  31 | 1298 |\n",
       "| 4 | 2019-M020 | Brisbane | Hard | 32 | A | 20181231 | 296 | 106421 | 4  | ⋯ | 56 | 46 | 19 | 15 |  2 |  4 |  16 | 1977 |  18 | 1855 |\n",
       "| 5 | 2019-M020 | Brisbane | Hard | 32 | A | 20181231 | 295 | 104871 | NA | ⋯ | 54 | 40 | 18 | 15 |  6 |  9 |  40 | 1050 | 185 |  275 |\n",
       "\n"
      ],
      "text/plain": [
       "  ...1 tourney_id tourney_name surface draw_size tourney_level tourney_date\n",
       "1 0    2019-M020  Brisbane     Hard    32        A             20181231    \n",
       "2 1    2019-M020  Brisbane     Hard    32        A             20181231    \n",
       "3 2    2019-M020  Brisbane     Hard    32        A             20181231    \n",
       "4 3    2019-M020  Brisbane     Hard    32        A             20181231    \n",
       "5 4    2019-M020  Brisbane     Hard    32        A             20181231    \n",
       "6 5    2019-M020  Brisbane     Hard    32        A             20181231    \n",
       "  match_num winner_id winner_seed ⋯ l_1stIn l_1stWon l_2ndWon l_SvGms l_bpSaved\n",
       "1 300       105453    2           ⋯ 54      34       20       14      10       \n",
       "2 299       106421    4           ⋯ 52      36        7       10      10       \n",
       "3 298       105453    2           ⋯ 27      15        6        8       1       \n",
       "4 297       104542    NA          ⋯ 60      38        9       11       4       \n",
       "5 296       106421    4           ⋯ 56      46       19       15       2       \n",
       "6 295       104871    NA          ⋯ 54      40       18       15       6       \n",
       "  l_bpFaced winner_rank winner_rank_points loser_rank loser_rank_points\n",
       "1 15          9         3590                16        1977             \n",
       "2 13         16         1977               239         200             \n",
       "3  5          9         3590                40        1050             \n",
       "4  6        239          200                31        1298             \n",
       "5  4         16         1977                18        1855             \n",
       "6  9         40         1050               185         275             "
      ]
     },
     "metadata": {},
     "output_type": "display_data"
    }
   ],
   "source": [
    "tennis <- read_csv(\"tennis.csv\", na = c(\"\", \"NA\"))\n",
    "\n",
    "## CLeaning and Wrangling\n",
    "\n",
    "## Replacing blanks with NA's for easier filtering\n",
    "head(tennis)\n"
   ]
  },
  {
   "cell_type": "code",
   "execution_count": 6,
   "id": "aa075e91-5cbe-4c4f-ac39-e457170f72b0",
   "metadata": {},
   "outputs": [
    {
     "data": {
      "text/html": [
       "<table class=\"dataframe\">\n",
       "<caption>A tibble: 1 × 4</caption>\n",
       "<thead>\n",
       "\t<tr><th scope=col>avg_winner_ht</th><th scope=col>avg_winner_age</th><th scope=col>avg_loser_ht</th><th scope=col>avg_loser_age</th></tr>\n",
       "\t<tr><th scope=col>&lt;dbl&gt;</th><th scope=col>&lt;dbl&gt;</th><th scope=col>&lt;dbl&gt;</th><th scope=col>&lt;dbl&gt;</th></tr>\n",
       "</thead>\n",
       "<tbody>\n",
       "\t<tr><td>186.7431</td><td>29.69015</td><td>186.1346</td><td>29.90483</td></tr>\n",
       "</tbody>\n",
       "</table>\n"
      ],
      "text/latex": [
       "A tibble: 1 × 4\n",
       "\\begin{tabular}{llll}\n",
       " avg\\_winner\\_ht & avg\\_winner\\_age & avg\\_loser\\_ht & avg\\_loser\\_age\\\\\n",
       " <dbl> & <dbl> & <dbl> & <dbl>\\\\\n",
       "\\hline\n",
       "\t 186.7431 & 29.69015 & 186.1346 & 29.90483\\\\\n",
       "\\end{tabular}\n"
      ],
      "text/markdown": [
       "\n",
       "A tibble: 1 × 4\n",
       "\n",
       "| avg_winner_ht &lt;dbl&gt; | avg_winner_age &lt;dbl&gt; | avg_loser_ht &lt;dbl&gt; | avg_loser_age &lt;dbl&gt; |\n",
       "|---|---|---|---|\n",
       "| 186.7431 | 29.69015 | 186.1346 | 29.90483 |\n",
       "\n"
      ],
      "text/plain": [
       "  avg_winner_ht avg_winner_age avg_loser_ht avg_loser_age\n",
       "1 186.7431      29.69015       186.1346     29.90483     "
      ]
     },
     "metadata": {},
     "output_type": "display_data"
    },
    {
     "name": "stderr",
     "output_type": "stream",
     "text": [
      "Warning message:\n",
      "“\u001b[1m\u001b[22mThere were 193 warnings in `summarize()`.\n",
      "The first warning was:\n",
      "\u001b[1m\u001b[22m\u001b[36mℹ\u001b[39m In argument: `match_count = sum(tennis$winner_name == winner_name)`.\n",
      "\u001b[36mℹ\u001b[39m In group 1: `winner_name = \"Adam Pavlasek\"`.\n",
      "Caused by warning in `tennis$winner_name == winner_name`:\n",
      "\u001b[33m!\u001b[39m longer object length is not a multiple of shorter object length\n",
      "\u001b[1m\u001b[22m\u001b[36mℹ\u001b[39m Run `dplyr::last_dplyr_warnings()` to see the 192 remaining warnings.”\n"
     ]
    },
    {
     "data": {
      "text/html": [
       "<table class=\"dataframe\">\n",
       "<caption>A tibble: 255 × 2</caption>\n",
       "<thead>\n",
       "\t<tr><th scope=col>winner_name</th><th scope=col>match_count</th></tr>\n",
       "\t<tr><th scope=col>&lt;chr&gt;</th><th scope=col>&lt;int&gt;</th></tr>\n",
       "</thead>\n",
       "<tbody>\n",
       "\t<tr><td>Rafael Nadal  </td><td>152</td></tr>\n",
       "\t<tr><td>Dominic Thiem </td><td>142</td></tr>\n",
       "\t<tr><td>Novak Djokovic</td><td>139</td></tr>\n",
       "\t<tr><td>⋮</td><td>⋮</td></tr>\n",
       "\t<tr><td>Yshai Oliel  </td><td>1</td></tr>\n",
       "\t<tr><td>Zhe Li       </td><td>1</td></tr>\n",
       "\t<tr><td>Zsombor Piros</td><td>1</td></tr>\n",
       "</tbody>\n",
       "</table>\n"
      ],
      "text/latex": [
       "A tibble: 255 × 2\n",
       "\\begin{tabular}{ll}\n",
       " winner\\_name & match\\_count\\\\\n",
       " <chr> & <int>\\\\\n",
       "\\hline\n",
       "\t Rafael Nadal   & 152\\\\\n",
       "\t Dominic Thiem  & 142\\\\\n",
       "\t Novak Djokovic & 139\\\\\n",
       "\t ⋮ & ⋮\\\\\n",
       "\t Yshai Oliel   & 1\\\\\n",
       "\t Zhe Li        & 1\\\\\n",
       "\t Zsombor Piros & 1\\\\\n",
       "\\end{tabular}\n"
      ],
      "text/markdown": [
       "\n",
       "A tibble: 255 × 2\n",
       "\n",
       "| winner_name &lt;chr&gt; | match_count &lt;int&gt; |\n",
       "|---|---|\n",
       "| Rafael Nadal   | 152 |\n",
       "| Dominic Thiem  | 142 |\n",
       "| Novak Djokovic | 139 |\n",
       "| ⋮ | ⋮ |\n",
       "| Yshai Oliel   | 1 |\n",
       "| Zhe Li        | 1 |\n",
       "| Zsombor Piros | 1 |\n",
       "\n"
      ],
      "text/plain": [
       "    winner_name    match_count\n",
       "1   Rafael Nadal   152        \n",
       "2   Dominic Thiem  142        \n",
       "3   Novak Djokovic 139        \n",
       "⋮   ⋮              ⋮          \n",
       "253 Yshai Oliel    1          \n",
       "254 Zhe Li         1          \n",
       "255 Zsombor Piros  1          "
      ]
     },
     "metadata": {},
     "output_type": "display_data"
    }
   ],
   "source": [
    "tennis_remove_blank_heights <- tennis[!(is.na(tennis$winner_ht) | is.na(tennis$loser_ht)), ]\n",
    "tennis_summarized <- tennis_remove_blank_heights |>\n",
    "    summarize(\n",
    "        avg_winner_ht = mean(winner_ht), \n",
    "        avg_winner_age = mean(winner_age),\n",
    "        avg_loser_ht = mean(loser_ht),\n",
    "        avg_loser_age = mean(loser_age)) \n",
    "\n",
    "tennis_summarized\n",
    "\n",
    "players_match_count <- tennis |>\n",
    "    group_by(winner_name) |>\n",
    "    summarize(\n",
    "        match_count = sum(tennis$winner_name == winner_name)\n",
    "    ) |>\n",
    "    arrange(desc(match_count))\n",
    "\n",
    "players_match_count"
   ]
  },
  {
   "cell_type": "code",
   "execution_count": null,
   "id": "52951d88-4901-4fbb-8eb1-92d859d0a98d",
   "metadata": {},
   "outputs": [],
   "source": []
  },
  {
   "cell_type": "code",
   "execution_count": null,
   "id": "448bb3b6-7ced-4c0c-8899-fa7a93ee3d20",
   "metadata": {},
   "outputs": [],
   "source": []
  }
 ],
 "metadata": {
  "kernelspec": {
   "display_name": "R",
   "language": "R",
   "name": "ir"
  },
  "language_info": {
   "codemirror_mode": "r",
   "file_extension": ".r",
   "mimetype": "text/x-r-source",
   "name": "R",
   "pygments_lexer": "r",
   "version": "4.3.1"
  }
 },
 "nbformat": 4,
 "nbformat_minor": 5
}
