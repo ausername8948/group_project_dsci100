{
 "cells": [
  {
   "cell_type": "markdown",
   "id": "a8a82e18-41cf-407e-a527-1364cfd88f4a",
   "metadata": {},
   "source": [
    "# Group Project - Predicting the Winner of a Tennis Match"
   ]
  },
  {
   "cell_type": "markdown",
   "id": "ff3e5532-bbb4-4d84-8551-89de1f1df267",
   "metadata": {},
   "source": [
    "# 1. Introduction\n",
    "\n",
    "Tennis is a popular racket sport throughout the world and has a large competitive scene. There are many competitions held throughout the world for tennis, to try to find the best tennis player in the world. Professional tennis players are ranked through the ATP ranking system, awarding points based on their tournament performances. For instance, a player would earn more points for making it deep into a tournament. \n",
    "\n",
    "In this project, we will attempt to answer the question: **“Can we predict the winner of a match between two professional players?”** \r\n"
   ]
  },
  {
   "cell_type": "markdown",
   "id": "deea7f3b-0e3a-4d06-b591-0d4ccb44b94a",
   "metadata": {},
   "source": [
    "## Dataset Description\n",
    "\n",
    "The dataset we will be using to create our classification model are the results of games between 2017 and 2019 of the top 500 tennis players. In this dataset, there is information about the various tournaments in the time period, information about the players that played in the tournament, and information about their wins and losses in those tournaments. There is also data about the player’s ATP rank and how many points they gained from each tournament. "
   ]
  },
  {
   "cell_type": "markdown",
   "id": "c0b07a60-ef34-47ce-a9a7-62b630525e65",
   "metadata": {},
   "source": [
    "# 2. Methods & Results\n",
    "\n",
    "Firstly, we imported the tennis database into Jupyter. Then, we will transform our data to better suit our data analysis, and clean it into a tidy format. Finally, we can split the data into 75% training and 25% testing for analysis.\n",
    "\n",
    "There are a large number of potential predictors in this dataset, many of which are potentially useless for determining the winner of a match, andso further analysis is needed to determine the best set of predictor variables. We can do this using data visualizations.\n",
    "\n",
    "After selecting the appropriate predictors, we can train a KNN (***k***\n",
    "-nearestneighborss) classification modelusing the training data. A cross-fold validation will be performed to find the best value for ***k***. Thenly, the model will be evaluated against the testing data set.\n",
    "\n",
    "Currently, the columns describing the two players of a game are labeled “winner” and \"loser”, but we will change their labels to “player 1” and “player 2”. To allow for easier classification, we will create a column titled “winner” and have the variables be either “player 1” or “player 2” to display the player that won. The columns we will use to predict the winner will be a player’s average rank, and a new column called win percentage. To create this new column, we will find a player’s total number of wins and divide it by the total number of games they have played. These columns will be important to our project as they are the strongest indicator that a player will win a game. One way we can visualize our results is by plotting the percent accuracy of our results in a bar graph format and comparing it to the accuracy of a predictor only using player rank and the accuracy of another predictor only using win percentage. By doing this, we can ascertain if our predictor is more accurate than other simpler models. \r\n"
   ]
  },
  {
   "cell_type": "markdown",
   "id": "b868bad2-5135-41e9-a20b-018fad1267dc",
   "metadata": {},
   "source": [
    "## Preliminary Exploratory Data Analysis"
   ]
  },
  {
   "cell_type": "code",
   "execution_count": 2,
   "id": "a8031a1f-6333-469f-ae73-4094352cb5fd",
   "metadata": {},
   "outputs": [
    {
     "name": "stderr",
     "output_type": "stream",
     "text": [
      "── \u001b[1mAttaching core tidyverse packages\u001b[22m ──────────────────────── tidyverse 2.0.0 ──\n",
      "\u001b[32m✔\u001b[39m \u001b[34mdplyr    \u001b[39m 1.1.3     \u001b[32m✔\u001b[39m \u001b[34mreadr    \u001b[39m 2.1.4\n",
      "\u001b[32m✔\u001b[39m \u001b[34mforcats  \u001b[39m 1.0.0     \u001b[32m✔\u001b[39m \u001b[34mstringr  \u001b[39m 1.5.0\n",
      "\u001b[32m✔\u001b[39m \u001b[34mggplot2  \u001b[39m 3.4.4     \u001b[32m✔\u001b[39m \u001b[34mtibble   \u001b[39m 3.2.1\n",
      "\u001b[32m✔\u001b[39m \u001b[34mlubridate\u001b[39m 1.9.3     \u001b[32m✔\u001b[39m \u001b[34mtidyr    \u001b[39m 1.3.0\n",
      "\u001b[32m✔\u001b[39m \u001b[34mpurrr    \u001b[39m 1.0.2     \n",
      "── \u001b[1mConflicts\u001b[22m ────────────────────────────────────────── tidyverse_conflicts() ──\n",
      "\u001b[31m✖\u001b[39m \u001b[34mdplyr\u001b[39m::\u001b[32mfilter()\u001b[39m masks \u001b[34mstats\u001b[39m::filter()\n",
      "\u001b[31m✖\u001b[39m \u001b[34mdplyr\u001b[39m::\u001b[32mlag()\u001b[39m    masks \u001b[34mstats\u001b[39m::lag()\n",
      "\u001b[36mℹ\u001b[39m Use the conflicted package (\u001b[3m\u001b[34m<http://conflicted.r-lib.org/>\u001b[39m\u001b[23m) to force all conflicts to become errors\n"
     ]
    }
   ],
   "source": [
    "options(repr.matrix.max.rows = 6)\n",
    "\n",
    "library(tidyverse)\n",
    "library(repr)"
   ]
  },
  {
   "cell_type": "code",
   "execution_count": 3,
   "id": "92d72ff8-ea98-4f27-bf56-18abcb352718",
   "metadata": {},
   "outputs": [
    {
     "name": "stderr",
     "output_type": "stream",
     "text": [
      "\u001b[1m\u001b[22mNew names:\n",
      "\u001b[36m•\u001b[39m `` -> `...1`\n",
      "\u001b[1mRows: \u001b[22m\u001b[34m6866\u001b[39m \u001b[1mColumns: \u001b[22m\u001b[34m50\u001b[39m\n",
      "\u001b[36m──\u001b[39m \u001b[1mColumn specification\u001b[22m \u001b[36m────────────────────────────────────────────────────────\u001b[39m\n",
      "\u001b[1mDelimiter:\u001b[22m \",\"\n",
      "\u001b[31mchr\u001b[39m (16): tourney_id, tourney_name, surface, tourney_level, winner_seed, win...\n",
      "\u001b[32mdbl\u001b[39m (34): ...1, draw_size, tourney_date, match_num, winner_id, winner_ht, wi...\n",
      "\n",
      "\u001b[36mℹ\u001b[39m Use `spec()` to retrieve the full column specification for this data.\n",
      "\u001b[36mℹ\u001b[39m Specify the column types or set `show_col_types = FALSE` to quiet this message.\n"
     ]
    },
    {
     "data": {
      "text/html": [
       "<table class=\"dataframe\">\n",
       "<caption>A tibble: 6 × 50</caption>\n",
       "<thead>\n",
       "\t<tr><th scope=col>...1</th><th scope=col>tourney_id</th><th scope=col>tourney_name</th><th scope=col>surface</th><th scope=col>draw_size</th><th scope=col>tourney_level</th><th scope=col>tourney_date</th><th scope=col>match_num</th><th scope=col>winner_id</th><th scope=col>winner_seed</th><th scope=col>⋯</th><th scope=col>l_1stIn</th><th scope=col>l_1stWon</th><th scope=col>l_2ndWon</th><th scope=col>l_SvGms</th><th scope=col>l_bpSaved</th><th scope=col>l_bpFaced</th><th scope=col>winner_rank</th><th scope=col>winner_rank_points</th><th scope=col>loser_rank</th><th scope=col>loser_rank_points</th></tr>\n",
       "\t<tr><th scope=col>&lt;dbl&gt;</th><th scope=col>&lt;chr&gt;</th><th scope=col>&lt;chr&gt;</th><th scope=col>&lt;chr&gt;</th><th scope=col>&lt;dbl&gt;</th><th scope=col>&lt;chr&gt;</th><th scope=col>&lt;dbl&gt;</th><th scope=col>&lt;dbl&gt;</th><th scope=col>&lt;dbl&gt;</th><th scope=col>&lt;chr&gt;</th><th scope=col>⋯</th><th scope=col>&lt;dbl&gt;</th><th scope=col>&lt;dbl&gt;</th><th scope=col>&lt;dbl&gt;</th><th scope=col>&lt;dbl&gt;</th><th scope=col>&lt;dbl&gt;</th><th scope=col>&lt;dbl&gt;</th><th scope=col>&lt;dbl&gt;</th><th scope=col>&lt;dbl&gt;</th><th scope=col>&lt;dbl&gt;</th><th scope=col>&lt;dbl&gt;</th></tr>\n",
       "</thead>\n",
       "<tbody>\n",
       "\t<tr><td>0</td><td>2019-M020</td><td>Brisbane</td><td>Hard</td><td>32</td><td>A</td><td>20181231</td><td>300</td><td>105453</td><td>2 </td><td>⋯</td><td>54</td><td>34</td><td>20</td><td>14</td><td>10</td><td>15</td><td>  9</td><td>3590</td><td> 16</td><td>1977</td></tr>\n",
       "\t<tr><td>1</td><td>2019-M020</td><td>Brisbane</td><td>Hard</td><td>32</td><td>A</td><td>20181231</td><td>299</td><td>106421</td><td>4 </td><td>⋯</td><td>52</td><td>36</td><td> 7</td><td>10</td><td>10</td><td>13</td><td> 16</td><td>1977</td><td>239</td><td> 200</td></tr>\n",
       "\t<tr><td>2</td><td>2019-M020</td><td>Brisbane</td><td>Hard</td><td>32</td><td>A</td><td>20181231</td><td>298</td><td>105453</td><td>2 </td><td>⋯</td><td>27</td><td>15</td><td> 6</td><td> 8</td><td> 1</td><td> 5</td><td>  9</td><td>3590</td><td> 40</td><td>1050</td></tr>\n",
       "\t<tr><td>3</td><td>2019-M020</td><td>Brisbane</td><td>Hard</td><td>32</td><td>A</td><td>20181231</td><td>297</td><td>104542</td><td>NA</td><td>⋯</td><td>60</td><td>38</td><td> 9</td><td>11</td><td> 4</td><td> 6</td><td>239</td><td> 200</td><td> 31</td><td>1298</td></tr>\n",
       "\t<tr><td>4</td><td>2019-M020</td><td>Brisbane</td><td>Hard</td><td>32</td><td>A</td><td>20181231</td><td>296</td><td>106421</td><td>4 </td><td>⋯</td><td>56</td><td>46</td><td>19</td><td>15</td><td> 2</td><td> 4</td><td> 16</td><td>1977</td><td> 18</td><td>1855</td></tr>\n",
       "\t<tr><td>5</td><td>2019-M020</td><td>Brisbane</td><td>Hard</td><td>32</td><td>A</td><td>20181231</td><td>295</td><td>104871</td><td>NA</td><td>⋯</td><td>54</td><td>40</td><td>18</td><td>15</td><td> 6</td><td> 9</td><td> 40</td><td>1050</td><td>185</td><td> 275</td></tr>\n",
       "</tbody>\n",
       "</table>\n"
      ],
      "text/latex": [
       "A tibble: 6 × 50\n",
       "\\begin{tabular}{lllllllllllllllllllll}\n",
       " ...1 & tourney\\_id & tourney\\_name & surface & draw\\_size & tourney\\_level & tourney\\_date & match\\_num & winner\\_id & winner\\_seed & ⋯ & l\\_1stIn & l\\_1stWon & l\\_2ndWon & l\\_SvGms & l\\_bpSaved & l\\_bpFaced & winner\\_rank & winner\\_rank\\_points & loser\\_rank & loser\\_rank\\_points\\\\\n",
       " <dbl> & <chr> & <chr> & <chr> & <dbl> & <chr> & <dbl> & <dbl> & <dbl> & <chr> & ⋯ & <dbl> & <dbl> & <dbl> & <dbl> & <dbl> & <dbl> & <dbl> & <dbl> & <dbl> & <dbl>\\\\\n",
       "\\hline\n",
       "\t 0 & 2019-M020 & Brisbane & Hard & 32 & A & 20181231 & 300 & 105453 & 2  & ⋯ & 54 & 34 & 20 & 14 & 10 & 15 &   9 & 3590 &  16 & 1977\\\\\n",
       "\t 1 & 2019-M020 & Brisbane & Hard & 32 & A & 20181231 & 299 & 106421 & 4  & ⋯ & 52 & 36 &  7 & 10 & 10 & 13 &  16 & 1977 & 239 &  200\\\\\n",
       "\t 2 & 2019-M020 & Brisbane & Hard & 32 & A & 20181231 & 298 & 105453 & 2  & ⋯ & 27 & 15 &  6 &  8 &  1 &  5 &   9 & 3590 &  40 & 1050\\\\\n",
       "\t 3 & 2019-M020 & Brisbane & Hard & 32 & A & 20181231 & 297 & 104542 & NA & ⋯ & 60 & 38 &  9 & 11 &  4 &  6 & 239 &  200 &  31 & 1298\\\\\n",
       "\t 4 & 2019-M020 & Brisbane & Hard & 32 & A & 20181231 & 296 & 106421 & 4  & ⋯ & 56 & 46 & 19 & 15 &  2 &  4 &  16 & 1977 &  18 & 1855\\\\\n",
       "\t 5 & 2019-M020 & Brisbane & Hard & 32 & A & 20181231 & 295 & 104871 & NA & ⋯ & 54 & 40 & 18 & 15 &  6 &  9 &  40 & 1050 & 185 &  275\\\\\n",
       "\\end{tabular}\n"
      ],
      "text/markdown": [
       "\n",
       "A tibble: 6 × 50\n",
       "\n",
       "| ...1 &lt;dbl&gt; | tourney_id &lt;chr&gt; | tourney_name &lt;chr&gt; | surface &lt;chr&gt; | draw_size &lt;dbl&gt; | tourney_level &lt;chr&gt; | tourney_date &lt;dbl&gt; | match_num &lt;dbl&gt; | winner_id &lt;dbl&gt; | winner_seed &lt;chr&gt; | ⋯ ⋯ | l_1stIn &lt;dbl&gt; | l_1stWon &lt;dbl&gt; | l_2ndWon &lt;dbl&gt; | l_SvGms &lt;dbl&gt; | l_bpSaved &lt;dbl&gt; | l_bpFaced &lt;dbl&gt; | winner_rank &lt;dbl&gt; | winner_rank_points &lt;dbl&gt; | loser_rank &lt;dbl&gt; | loser_rank_points &lt;dbl&gt; |\n",
       "|---|---|---|---|---|---|---|---|---|---|---|---|---|---|---|---|---|---|---|---|---|\n",
       "| 0 | 2019-M020 | Brisbane | Hard | 32 | A | 20181231 | 300 | 105453 | 2  | ⋯ | 54 | 34 | 20 | 14 | 10 | 15 |   9 | 3590 |  16 | 1977 |\n",
       "| 1 | 2019-M020 | Brisbane | Hard | 32 | A | 20181231 | 299 | 106421 | 4  | ⋯ | 52 | 36 |  7 | 10 | 10 | 13 |  16 | 1977 | 239 |  200 |\n",
       "| 2 | 2019-M020 | Brisbane | Hard | 32 | A | 20181231 | 298 | 105453 | 2  | ⋯ | 27 | 15 |  6 |  8 |  1 |  5 |   9 | 3590 |  40 | 1050 |\n",
       "| 3 | 2019-M020 | Brisbane | Hard | 32 | A | 20181231 | 297 | 104542 | NA | ⋯ | 60 | 38 |  9 | 11 |  4 |  6 | 239 |  200 |  31 | 1298 |\n",
       "| 4 | 2019-M020 | Brisbane | Hard | 32 | A | 20181231 | 296 | 106421 | 4  | ⋯ | 56 | 46 | 19 | 15 |  2 |  4 |  16 | 1977 |  18 | 1855 |\n",
       "| 5 | 2019-M020 | Brisbane | Hard | 32 | A | 20181231 | 295 | 104871 | NA | ⋯ | 54 | 40 | 18 | 15 |  6 |  9 |  40 | 1050 | 185 |  275 |\n",
       "\n"
      ],
      "text/plain": [
       "  ...1 tourney_id tourney_name surface draw_size tourney_level tourney_date\n",
       "1 0    2019-M020  Brisbane     Hard    32        A             20181231    \n",
       "2 1    2019-M020  Brisbane     Hard    32        A             20181231    \n",
       "3 2    2019-M020  Brisbane     Hard    32        A             20181231    \n",
       "4 3    2019-M020  Brisbane     Hard    32        A             20181231    \n",
       "5 4    2019-M020  Brisbane     Hard    32        A             20181231    \n",
       "6 5    2019-M020  Brisbane     Hard    32        A             20181231    \n",
       "  match_num winner_id winner_seed ⋯ l_1stIn l_1stWon l_2ndWon l_SvGms l_bpSaved\n",
       "1 300       105453    2           ⋯ 54      34       20       14      10       \n",
       "2 299       106421    4           ⋯ 52      36        7       10      10       \n",
       "3 298       105453    2           ⋯ 27      15        6        8       1       \n",
       "4 297       104542    NA          ⋯ 60      38        9       11       4       \n",
       "5 296       106421    4           ⋯ 56      46       19       15       2       \n",
       "6 295       104871    NA          ⋯ 54      40       18       15       6       \n",
       "  l_bpFaced winner_rank winner_rank_points loser_rank loser_rank_points\n",
       "1 15          9         3590                16        1977             \n",
       "2 13         16         1977               239         200             \n",
       "3  5          9         3590                40        1050             \n",
       "4  6        239          200                31        1298             \n",
       "5  4         16         1977                18        1855             \n",
       "6  9         40         1050               185         275             "
      ]
     },
     "metadata": {},
     "output_type": "display_data"
    }
   ],
   "source": [
    "tennis <- read_csv(\"tennis.csv\", na = c(\"\", \"NA\"))\n",
    "\n",
    "## Cleaning and Wrangling\n",
    "## Data is already tidy\n",
    "head(tennis)\n"
   ]
  },
  {
   "cell_type": "code",
   "execution_count": 124,
   "id": "aa075e91-5cbe-4c4f-ac39-e457170f72b0",
   "metadata": {},
   "outputs": [
    {
     "data": {
      "text/html": [
       "<table class=\"dataframe\">\n",
       "<caption>A tibble: 1 × 4</caption>\n",
       "<thead>\n",
       "\t<tr><th scope=col>avg_winner_ht</th><th scope=col>avg_winner_age</th><th scope=col>avg_loser_ht</th><th scope=col>avg_loser_age</th></tr>\n",
       "\t<tr><th scope=col>&lt;dbl&gt;</th><th scope=col>&lt;dbl&gt;</th><th scope=col>&lt;dbl&gt;</th><th scope=col>&lt;dbl&gt;</th></tr>\n",
       "</thead>\n",
       "<tbody>\n",
       "\t<tr><td>186.7431</td><td>29.69015</td><td>186.1346</td><td>29.90483</td></tr>\n",
       "</tbody>\n",
       "</table>\n"
      ],
      "text/latex": [
       "A tibble: 1 × 4\n",
       "\\begin{tabular}{llll}\n",
       " avg\\_winner\\_ht & avg\\_winner\\_age & avg\\_loser\\_ht & avg\\_loser\\_age\\\\\n",
       " <dbl> & <dbl> & <dbl> & <dbl>\\\\\n",
       "\\hline\n",
       "\t 186.7431 & 29.69015 & 186.1346 & 29.90483\\\\\n",
       "\\end{tabular}\n"
      ],
      "text/markdown": [
       "\n",
       "A tibble: 1 × 4\n",
       "\n",
       "| avg_winner_ht &lt;dbl&gt; | avg_winner_age &lt;dbl&gt; | avg_loser_ht &lt;dbl&gt; | avg_loser_age &lt;dbl&gt; |\n",
       "|---|---|---|---|\n",
       "| 186.7431 | 29.69015 | 186.1346 | 29.90483 |\n",
       "\n"
      ],
      "text/plain": [
       "  avg_winner_ht avg_winner_age avg_loser_ht avg_loser_age\n",
       "1 186.7431      29.69015       186.1346     29.90483     "
      ]
     },
     "metadata": {},
     "output_type": "display_data"
    },
    {
     "name": "stderr",
     "output_type": "stream",
     "text": [
      "Warning message:\n",
      "“\u001b[1m\u001b[22mThere were 1842 warnings in `summarize()`.\n",
      "The first warning was:\n",
      "\u001b[1m\u001b[22m\u001b[36mℹ\u001b[39m In argument: `winning_match_count = sum(tennis$winner_name == winner_name)`.\n",
      "\u001b[36mℹ\u001b[39m In group 4: `winner_name = \"Adrian Mannarino\"`, `tourney_name =\n",
      "  \"'s-Hertogenbosch\"`.\n",
      "Caused by warning in `tennis$winner_name == winner_name`:\n",
      "\u001b[33m!\u001b[39m longer object length is not a multiple of shorter object length\n",
      "\u001b[1m\u001b[22m\u001b[36mℹ\u001b[39m Run `dplyr::last_dplyr_warnings()` to see the 1841 remaining warnings.”\n",
      "Warning message:\n",
      "“\u001b[1m\u001b[22mReturning more (or less) than 1 row per `summarise()` group was deprecated in\n",
      "dplyr 1.1.0.\n",
      "\u001b[36mℹ\u001b[39m Please use `reframe()` instead.\n",
      "\u001b[36mℹ\u001b[39m When switching from `summarise()` to `reframe()`, remember that `reframe()`\n",
      "  always returns an ungrouped data frame and adjust accordingly.”\n",
      "\u001b[1m\u001b[22m`summarise()` has grouped output by 'winner_name', 'tourney_name'. You can\n",
      "override using the `.groups` argument.\n"
     ]
    },
    {
     "data": {
      "text/html": [
       "<table class=\"dataframe\">\n",
       "<caption>A grouped_df: 6 × 9</caption>\n",
       "<thead>\n",
       "\t<tr><th scope=col>winner_name</th><th scope=col>tourney_name</th><th scope=col>winning_match_count</th><th scope=col>losing_match_count</th><th scope=col>winner_rank</th><th scope=col>loser_rank</th><th scope=col>loser_name</th><th scope=col>match_count</th><th scope=col>win_percent</th></tr>\n",
       "\t<tr><th scope=col>&lt;chr&gt;</th><th scope=col>&lt;chr&gt;</th><th scope=col>&lt;int&gt;</th><th scope=col>&lt;int&gt;</th><th scope=col>&lt;dbl&gt;</th><th scope=col>&lt;dbl&gt;</th><th scope=col>&lt;chr&gt;</th><th scope=col>&lt;int&gt;</th><th scope=col>&lt;dbl&gt;</th></tr>\n",
       "</thead>\n",
       "<tbody>\n",
       "\t<tr><td>Rafael Nadal</td><td>Acapulco       </td><td>152</td><td>24</td><td>2</td><td> 76</td><td>Mischa Zverev     </td><td>176</td><td>0.8636364</td></tr>\n",
       "\t<tr><td>Rafael Nadal</td><td>Acapulco       </td><td>152</td><td>24</td><td>6</td><td> 30</td><td>Mischa Zverev     </td><td>176</td><td>0.8636364</td></tr>\n",
       "\t<tr><td>Rafael Nadal</td><td>Acapulco       </td><td>152</td><td>24</td><td>6</td><td> 38</td><td>Paolo Lorenzi     </td><td>176</td><td>0.8636364</td></tr>\n",
       "\t<tr><td>Rafael Nadal</td><td>Acapulco       </td><td>152</td><td>24</td><td>6</td><td> 86</td><td>Yoshihito Nishioka</td><td>176</td><td>0.8636364</td></tr>\n",
       "\t<tr><td>Rafael Nadal</td><td>Acapulco       </td><td>152</td><td>24</td><td>6</td><td>  8</td><td>Marin Cilic       </td><td>176</td><td>0.8636364</td></tr>\n",
       "\t<tr><td>Rafael Nadal</td><td>Australian Open</td><td>152</td><td>24</td><td>2</td><td>237</td><td>James Duckworth   </td><td>176</td><td>0.8636364</td></tr>\n",
       "</tbody>\n",
       "</table>\n"
      ],
      "text/latex": [
       "A grouped\\_df: 6 × 9\n",
       "\\begin{tabular}{lllllllll}\n",
       " winner\\_name & tourney\\_name & winning\\_match\\_count & losing\\_match\\_count & winner\\_rank & loser\\_rank & loser\\_name & match\\_count & win\\_percent\\\\\n",
       " <chr> & <chr> & <int> & <int> & <dbl> & <dbl> & <chr> & <int> & <dbl>\\\\\n",
       "\\hline\n",
       "\t Rafael Nadal & Acapulco        & 152 & 24 & 2 &  76 & Mischa Zverev      & 176 & 0.8636364\\\\\n",
       "\t Rafael Nadal & Acapulco        & 152 & 24 & 6 &  30 & Mischa Zverev      & 176 & 0.8636364\\\\\n",
       "\t Rafael Nadal & Acapulco        & 152 & 24 & 6 &  38 & Paolo Lorenzi      & 176 & 0.8636364\\\\\n",
       "\t Rafael Nadal & Acapulco        & 152 & 24 & 6 &  86 & Yoshihito Nishioka & 176 & 0.8636364\\\\\n",
       "\t Rafael Nadal & Acapulco        & 152 & 24 & 6 &   8 & Marin Cilic        & 176 & 0.8636364\\\\\n",
       "\t Rafael Nadal & Australian Open & 152 & 24 & 2 & 237 & James Duckworth    & 176 & 0.8636364\\\\\n",
       "\\end{tabular}\n"
      ],
      "text/markdown": [
       "\n",
       "A grouped_df: 6 × 9\n",
       "\n",
       "| winner_name &lt;chr&gt; | tourney_name &lt;chr&gt; | winning_match_count &lt;int&gt; | losing_match_count &lt;int&gt; | winner_rank &lt;dbl&gt; | loser_rank &lt;dbl&gt; | loser_name &lt;chr&gt; | match_count &lt;int&gt; | win_percent &lt;dbl&gt; |\n",
       "|---|---|---|---|---|---|---|---|---|\n",
       "| Rafael Nadal | Acapulco        | 152 | 24 | 2 |  76 | Mischa Zverev      | 176 | 0.8636364 |\n",
       "| Rafael Nadal | Acapulco        | 152 | 24 | 6 |  30 | Mischa Zverev      | 176 | 0.8636364 |\n",
       "| Rafael Nadal | Acapulco        | 152 | 24 | 6 |  38 | Paolo Lorenzi      | 176 | 0.8636364 |\n",
       "| Rafael Nadal | Acapulco        | 152 | 24 | 6 |  86 | Yoshihito Nishioka | 176 | 0.8636364 |\n",
       "| Rafael Nadal | Acapulco        | 152 | 24 | 6 |   8 | Marin Cilic        | 176 | 0.8636364 |\n",
       "| Rafael Nadal | Australian Open | 152 | 24 | 2 | 237 | James Duckworth    | 176 | 0.8636364 |\n",
       "\n"
      ],
      "text/plain": [
       "  winner_name  tourney_name    winning_match_count losing_match_count\n",
       "1 Rafael Nadal Acapulco        152                 24                \n",
       "2 Rafael Nadal Acapulco        152                 24                \n",
       "3 Rafael Nadal Acapulco        152                 24                \n",
       "4 Rafael Nadal Acapulco        152                 24                \n",
       "5 Rafael Nadal Acapulco        152                 24                \n",
       "6 Rafael Nadal Australian Open 152                 24                \n",
       "  winner_rank loser_rank loser_name         match_count win_percent\n",
       "1 2            76        Mischa Zverev      176         0.8636364  \n",
       "2 6            30        Mischa Zverev      176         0.8636364  \n",
       "3 6            38        Paolo Lorenzi      176         0.8636364  \n",
       "4 6            86        Yoshihito Nishioka 176         0.8636364  \n",
       "5 6             8        Marin Cilic        176         0.8636364  \n",
       "6 2           237        James Duckworth    176         0.8636364  "
      ]
     },
     "metadata": {},
     "output_type": "display_data"
    }
   ],
   "source": [
    "\n",
    "##Get statistics for winner & loser average height, age\n",
    "tennis_remove_blank_heights <- tennis[!(is.na(tennis$winner_ht) | is.na(tennis$loser_ht)), ]\n",
    "tennis_summarized <- tennis_remove_blank_heights |>\n",
    "    summarize(\n",
    "        avg_winner_ht = mean(winner_ht), \n",
    "        avg_winner_age = mean(winner_age),\n",
    "        avg_loser_ht = mean(loser_ht),\n",
    "        avg_loser_age = mean(loser_age)) \n",
    "\n",
    "tennis_summarized\n",
    "\n",
    "## WE WANT THE DATA TO BE SORTED BY PLAYER, NOT BY MATCH\n",
    "\n",
    "##Get data for each player by tournament\n",
    "players_data <- tennis |>\n",
    "    group_by(winner_name, tourney_name) |>\n",
    "    summarize(\n",
    "        winning_match_count = sum(tennis$winner_name == winner_name),\n",
    "        losing_match_count = sum(tennis$loser_name == winner_name),\n",
    "        winner_rank = winner_rank,\n",
    "        loser_rank = loser_rank,\n",
    "        loser_name = loser_name\n",
    "    ) |>\n",
    "    arrange(desc(winning_match_count), desc(losing_match_count)) |>\n",
    "    mutate(match_count = winning_match_count + losing_match_count) |>\n",
    "    mutate(win_percent = winning_match_count / match_count)\n",
    "\n",
    "#rank_when_win_match <- tennis |>\n",
    "#    group_by(winner_name, tourney_name) |>\n",
    "#    summarize(winner_rank = winner_rank) |>\n",
    "#    drop_na(winner_rank)\n",
    "\n",
    "#head(rank_when_win_match)\n",
    "\n",
    "head(players_data)"
   ]
  },
  {
   "cell_type": "code",
   "execution_count": 1,
   "id": "509f3e05-1c02-4b0b-82dd-34c3dd636b20",
   "metadata": {},
   "outputs": [
    {
     "ename": "ERROR",
     "evalue": "Error in arrange(summarize(group_by(players_data, winner_name), avg_rank = mean(winner_rank, : could not find function \"arrange\"\n",
     "output_type": "error",
     "traceback": [
      "Error in arrange(summarize(group_by(players_data, winner_name), avg_rank = mean(winner_rank, : could not find function \"arrange\"\nTraceback:\n"
     ]
    }
   ],
   "source": [
    "\n",
    "options(repr.matrix.max.rows=30, repr.matrix.max.cols=20)\n",
    "\n",
    "\n",
    "## Winner rank (of a match)\n",
    "average_winner_ranks <- players_data |>\n",
    "    group_by(winner_name) |>\n",
    "    summarize(avg_rank = mean(winner_rank, na.rm = TRUE),\n",
    "             avg_win_percent = mean(win_percent, na.rm = TRUE)) |>\n",
    "    arrange(avg_rank)\n",
    "\n",
    "## Loser rank (of a match)\n",
    "average_loser_ranks <- players_data |>\n",
    "    group_by(loser_name) |>\n",
    "    summarize(avg_rank = mean(loser_rank, na.rm = TRUE),\n",
    "             avg_win_percent = mean(win_percent, na.rm = TRUE)) |>\n",
    "    arrange(avg_rank)\n",
    "\n",
    "\n",
    "\n",
    "\n",
    "## Combine average loser data and average winner data\n",
    "merged_ranks <- merge(average_winner_ranks, average_loser_ranks, by.x = 0, by.y = 0) |>\n",
    "    arrange(avg_rank.x)\n",
    "\n",
    "\n",
    "\n",
    "\n",
    "\n",
    "player_stats <- data.frame()\n",
    "\n",
    "## Creating new data frame\n",
    "for (x in 1:nrow(merged_ranks)) {\n",
    "    row <- merged_ranks[x, ]\n",
    "    match <- \"FALSE\"\n",
    "\n",
    "    ## Winner and Loser columns are same name, add one row to new data frame\n",
    "    if (row$winner_name == row$loser_name) {\n",
    "        \n",
    "        names <- row$winner_name\n",
    "        avg_rank <- (row$avg_rank.x + row$avg_rank.y) / 2\n",
    "        win_percent <- (row$avg_win_percent.x + row$avg_win_percent.y) / 2\n",
    "\n",
    "        vec <- c(names, avg_rank, win_percent)\n",
    "\n",
    "        player_stats <- rbind(player_stats, vec, stringsAsFactors = FALSE)\n",
    "        match <- \"TRUE\"\n",
    "    } else {\n",
    "\n",
    "        ## Search for winner name in loser column and vice versa, if found add one new row with player info to new data frame\n",
    "        for (y in 1:nrow(merged_ranks)) {\n",
    "            row2 <- merged_ranks[y, ]\n",
    "            if (row$winner_name == row2$loser_name) {\n",
    "                names <- row$winner_name\n",
    "                avg_rank <- (row$avg_rank.x + row2$avg_rank.y) / 2\n",
    "                win_percent <- (row$avg_win_percent.x + row2$avg_win_percent.y) / 2\n",
    "\n",
    "                vec <- c(names, avg_rank, win_percent)\n",
    "                player_stats <- rbind(player_stats, vec, stringsAsFactors = FALSE)\n",
    "\n",
    "                match <- \"TRUE\"\n",
    "                break\n",
    "            }\n",
    "\n",
    "            if (row2$winner_name == row$loser_name) {\n",
    "                names <- row2$winner_name\n",
    "                avg_rank <- (row2$avg_rank.x + row$avg_rank.y) / 2\n",
    "                win_percent <- (row2$avg_win_percent.x + row$avg_win_percent.y) / 2\n",
    "\n",
    "                vec <- c(names, avg_rank, win_percent)\n",
    "                player_stats <- rbind(player_stats, vec, stringsAsFactors = FALSE)\n",
    "\n",
    "                match <- \"TRUE\"\n",
    "                break\n",
    "            }\n",
    "        }\n",
    "\n",
    "        ## No match found, add two new rows to new data frame with winner and loser data\n",
    "        if (match == \"FALSE\") {\n",
    "\n",
    "            names <- row$winner_name\n",
    "            avg_rank <- row$avg_rank.x\n",
    "            win_percent <- row$avg_win_percent.x\n",
    "    \n",
    "            vec <- c(names, avg_rank, win_percent)\n",
    "            player_stats <- rbind(player_stats, vec, stringsAsFactors = FALSE)\n",
    "            \n",
    "            names <- row$loser_name\n",
    "            avg_rank <- row$avg_rank.y\n",
    "            win_percent <- row$avg_win_percent.y\n",
    "    \n",
    "            vec <- c(names, avg_rank, win_percent)\n",
    "            player_stats <- rbind(player_stats, vec, stringsAsFactors = FALSE)\n",
    "        }\n",
    "\n",
    "    }\n",
    "}\n",
    "names(player_stats)[names(player_stats) == \"X.Rafael.Nadal.\"] <- \"names\"\n",
    "names(player_stats)[names(player_stats) == \"X.2.73355263157895.\"] <- \"avg_rank\"\n",
    "names(player_stats)[names(player_stats) == \"X.0.783571649436549.\"] <- \"win_percent\"\n",
    "\n",
    "player_stats <- player_stats |> \n",
    "            transform(\n",
    "                avg_rank = as.numeric(avg_rank),\n",
    "                win_percent = as.numeric(win_percent)\n",
    "            ) |>\n",
    "            distinct()\n",
    "                \n",
    "\n",
    "player_stats\n",
    "\n",
    "\n",
    "\n",
    "\n",
    "\n",
    "## Sample plot of winner_rank vs win_percentage\n",
    "tennis_plot <- ggplot(player_stats, aes(x=avg_rank, y=win_percent)) +\n",
    "    geom_point()\n",
    "tennis_plot"
   ]
  },
  {
   "cell_type": "markdown",
   "id": "4b526e0c-236c-497c-b086-fffbd2162601",
   "metadata": {},
   "source": [
    "## Expected outcomes and significance\n",
    "\n",
    "We expect to find the winner between two professional tennis players with a greater accuracy than other simpler forms of prediction.These findings could help professional coaches and fans discover players with higher potential and allow them to decide whom to invest their time in. These findings could also lead to future questions such as “Which player will win a certain tournament?” or on a larger scale, we could ask “Which player will be ranked the highest in the future based on their predicted tournament wins?” Overall, we hope that our predictor will be effective at determining the winner of a tennis match and that it will be useful in future applications. "
   ]
  },
  {
   "cell_type": "code",
   "execution_count": null,
   "id": "7800b46c-eed9-4c85-acdd-014f0827a684",
   "metadata": {},
   "outputs": [],
   "source": []
  }
 ],
 "metadata": {
  "kernelspec": {
   "display_name": "R",
   "language": "R",
   "name": "ir"
  },
  "language_info": {
   "codemirror_mode": "r",
   "file_extension": ".r",
   "mimetype": "text/x-r-source",
   "name": "R",
   "pygments_lexer": "r",
   "version": "4.3.1"
  }
 },
 "nbformat": 4,
 "nbformat_minor": 5
}
